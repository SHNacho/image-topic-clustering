{
 "cells": [
  {
   "cell_type": "code",
   "execution_count": 1,
   "metadata": {},
   "outputs": [
    {
     "name": "stdout",
     "output_type": "stream",
     "text": [
      "Using cuda\n"
     ]
    }
   ],
   "source": [
    "import evaluate\n",
    "import json\n",
    "import matplotlib.pyplot as plt\n",
    "import numpy as np\n",
    "import os\n",
    "import pandas as pd\n",
    "import seaborn as sns\n",
    "import torch\n",
    "\n",
    "from datasets import Dataset\n",
    "from sklearn.metrics import (\n",
    "    confusion_matrix, \n",
    "    ConfusionMatrixDisplay, \n",
    "    accuracy_score,\n",
    "    f1_score,\n",
    "    classification_report,\n",
    "    precision_score,\n",
    "    recall_score\n",
    ")\n",
    "from transformers import (\n",
    "    AutoTokenizer,\n",
    "    DataCollatorWithPadding,\n",
    "    AutoModelForSequenceClassification,\n",
    "    Trainer,\n",
    "    TrainerCallback\n",
    ")\n",
    "from transformers.training_args import TrainingArguments\n",
    "\n",
    "device = torch.device(\"cuda\" if torch.cuda.is_available() else \"cpu\")\n",
    "print(f\"Using {device}\")\n"
   ]
  },
  {
   "cell_type": "markdown",
   "metadata": {},
   "source": [
    "## Read data"
   ]
  },
  {
   "cell_type": "code",
   "execution_count": 2,
   "metadata": {},
   "outputs": [
    {
     "name": "stdout",
     "output_type": "stream",
     "text": [
      "                                               caption  label\n",
      "0    The image shows a group of people standing on ...      4\n",
      "1    The image shows a man wearing a backpack and s...      4\n",
      "2    The image shows a man standing on a snow-cover...      4\n",
      "3    The image shows a woman wearing a blue shirt a...      4\n",
      "4    The image shows a group of people riding bicyc...      4\n",
      "..                                                 ...    ...\n",
      "283  The image shows a large, old stone building wi...      0\n",
      "284  The image shows a large, ornate church with a ...      0\n",
      "285  The image shows a painting or mural of a man i...      0\n",
      "286  The image shows a church with a bell tower, wh...      0\n",
      "287  The image shows a large brick church with a ta...      0\n",
      "\n",
      "[960 rows x 2 columns]\n"
     ]
    }
   ],
   "source": [
    "data_dir = \"../data\"\n",
    "train_data_path = os.path.join(data_dir, 'train_data_llava.json')\n",
    "test_data_path = os.path.join(data_dir, 'test_data_llava.json')\n",
    "models_dir = \"../models\"\n",
    "\n",
    "def generate_df_from_json(json_path):\n",
    "  with open(json_path) as f:\n",
    "    data: dict = json.load(f)\n",
    "    data_formated= {'caption': [], 'label': []}\n",
    "    for value in data.values():\n",
    "      data_formated['caption'].append(value['caption'])\n",
    "      data_formated['label'].append(value['label'])\n",
    "  \n",
    "  df = pd.DataFrame.from_dict(data_formated)\n",
    "  return df\n",
    "\n",
    "id2label = {\n",
    "  0: 'Cultural_Religious',\n",
    "  1: 'Fauna_Flora',\n",
    "  2: 'Gastronomy',\n",
    "  3: 'Nature',\n",
    "  4: 'Sports',\n",
    "  5: 'Urban_Rural'\n",
    "}\n",
    "\n",
    "label2id = {\n",
    "  'Cultural_Religious': 0,\n",
    "  'Fauna_Flora': 1,\n",
    "  'Gastronomy': 2,\n",
    "  'Nature': 3,\n",
    "  'Sports': 4,\n",
    "  'Urban_Rural': 5\n",
    "}\n",
    "\n",
    "train_df = generate_df_from_json(train_data_path)\n",
    "test_df = generate_df_from_json(test_data_path)\n",
    "train_df = pd.concat([train_df, test_df], axis=0)\n",
    "print(train_df)"
   ]
  },
  {
   "cell_type": "code",
   "execution_count": 3,
   "metadata": {},
   "outputs": [
    {
     "name": "stdout",
     "output_type": "stream",
     "text": [
      "Dataset({\n",
      "    features: ['caption', 'label', '__index_level_0__'],\n",
      "    num_rows: 960\n",
      "})\n"
     ]
    }
   ],
   "source": [
    "train_data = Dataset.from_pandas(train_df) #.train_test_split(test_size=0.15, seed=4999)\n",
    "test_data = Dataset.from_pandas(test_df)\n",
    "print(train_data)"
   ]
  },
  {
   "cell_type": "code",
   "execution_count": 4,
   "metadata": {},
   "outputs": [
    {
     "data": {
      "text/plain": [
       "([0, 1, 2, 3, 4, 5],\n",
       " [Text(0, 0, 'Cultural_Religious'),\n",
       "  Text(1, 0, 'Fauna_Flora'),\n",
       "  Text(2, 0, 'Gastronomy'),\n",
       "  Text(3, 0, 'Nature'),\n",
       "  Text(4, 0, 'Sports'),\n",
       "  Text(5, 0, 'Urban_Rural')])"
      ]
     },
     "execution_count": 4,
     "metadata": {},
     "output_type": "execute_result"
    },
    {
     "data": {
      "image/png": "[encoded data removed]",
      "text/plain": [
       "<Figure size 640x480 with 1 Axes>"
      ]
     },
     "metadata": {},
     "output_type": "display_data"
    }
   ],
   "source": [
    "label_count = train_df.groupby(by='label').count()\n",
    "label_count.columns = ['count']\n",
    "labels = [id2label[id] for id in label_count.index]\n",
    "sns.barplot(label_count, x=labels, y='count')\n",
    "plt.xticks(rotation=45)"
   ]
  },
  {
   "cell_type": "markdown",
   "metadata": {},
   "source": [
    "## Text classification"
   ]
  },
  {
   "cell_type": "code",
   "execution_count": 5,
   "metadata": {},
   "outputs": [],
   "source": [
    "model_id = \"google-bert/bert-base-uncased\"\n",
    "#model_id = \"distilbert/distilbert-base-uncased\"\n",
    "#model_id = \"FacebookAI/roberta-base\""
   ]
  },
  {
   "cell_type": "markdown",
   "metadata": {},
   "source": [
    "### Tokenize data"
   ]
  },
  {
   "cell_type": "code",
   "execution_count": 6,
   "metadata": {},
   "outputs": [
    {
     "data": {
      "application/vnd.jupyter.widget-view+json": {
       "model_id": "961c6674f1e7434e872a35331c570613",
       "version_major": 2,
       "version_minor": 0
      },
      "text/plain": [
       "Map:   0%|          | 0/960 [00:00<?, ? examples/s]"
      ]
     },
     "metadata": {},
     "output_type": "display_data"
    },
    {
     "data": {
      "application/vnd.jupyter.widget-view+json": {
       "model_id": "f1883015807d4016a7c972b08f931847",
       "version_major": 2,
       "version_minor": 0
      },
      "text/plain": [
       "Map:   0%|          | 0/288 [00:00<?, ? examples/s]"
      ]
     },
     "metadata": {},
     "output_type": "display_data"
    },
    {
     "name": "stdout",
     "output_type": "stream",
     "text": [
      "Dataset({\n",
      "    features: ['caption', 'label', '__index_level_0__', 'input_ids', 'token_type_ids', 'attention_mask'],\n",
      "    num_rows: 960\n",
      "})\n"
     ]
    }
   ],
   "source": [
    "tokenizer = AutoTokenizer.from_pretrained(model_id)\n",
    "\n",
    "def preprocess_function(examples):\n",
    "  return tokenizer(examples[\"caption\"], truncation=True)\n",
    "\n",
    "tokenized_train_data = train_data.map(preprocess_function, batched=True)\n",
    "tokenized_test_data = test_data.map(preprocess_function, batched=True)\n",
    "\n",
    "data_collator = DataCollatorWithPadding(tokenizer=tokenizer)\n",
    "print(tokenized_train_data)"
   ]
  },
  {
   "cell_type": "markdown",
   "metadata": {},
   "source": [
    "### Train model"
   ]
  },
  {
   "cell_type": "markdown",
   "metadata": {},
   "source": [
    "### Without CV"
   ]
  },
  {
   "cell_type": "code",
   "execution_count": 6,
   "metadata": {},
   "outputs": [
    {
     "name": "stderr",
     "output_type": "stream",
     "text": [
      "Some weights of DistilBertForSequenceClassification were not initialized from the model checkpoint at distilbert/distilbert-base-uncased and are newly initialized: ['classifier.bias', 'classifier.weight', 'pre_classifier.bias', 'pre_classifier.weight']\n",
      "You should probably TRAIN this model on a down-stream task to be able to use it for predictions and inference.\n"
     ]
    },
    {
     "data": {
      "application/vnd.jupyter.widget-view+json": {
       "model_id": "301d190800b044a8be87db7784cc38e8",
       "version_major": 2,
       "version_minor": 0
      },
      "text/plain": [
       "  0%|          | 0/180 [00:00<?, ?it/s]"
      ]
     },
     "metadata": {},
     "output_type": "display_data"
    },
    {
     "data": {
      "application/vnd.jupyter.widget-view+json": {
       "model_id": "945bac4f43bb47099c360653064bd37c",
       "version_major": 2,
       "version_minor": 0
      },
      "text/plain": [
       "  0%|          | 0/36 [00:00<?, ?it/s]"
      ]
     },
     "metadata": {},
     "output_type": "display_data"
    },
    {
     "name": "stdout",
     "output_type": "stream",
     "text": [
      "{'train_loss': 1.2942354679107666, 'train_accuracy': 0.819614711033275, 'train_runtime': 2.5624, 'train_samples_per_second': 222.838, 'train_steps_per_second': 14.049, 'epoch': 1.0}\n"
     ]
    },
    {
     "data": {
      "application/vnd.jupyter.widget-view+json": {
       "model_id": "ea4fa91248e64e3aa8cfd0c95fefe0d7",
       "version_major": 2,
       "version_minor": 0
      },
      "text/plain": [
       "  0%|          | 0/7 [00:00<?, ?it/s]"
      ]
     },
     "metadata": {},
     "output_type": "display_data"
    },
    {
     "name": "stdout",
     "output_type": "stream",
     "text": [
      "{'eval_loss': 1.285083293914795, 'eval_accuracy': 0.8316831683168316, 'eval_runtime': 0.4754, 'eval_samples_per_second': 212.434, 'eval_steps_per_second': 14.723, 'epoch': 1.0}\n"
     ]
    },
    {
     "data": {
      "application/vnd.jupyter.widget-view+json": {
       "model_id": "96c1845ba0bf4f82b22c79ca418388ac",
       "version_major": 2,
       "version_minor": 0
      },
      "text/plain": [
       "  0%|          | 0/36 [00:00<?, ?it/s]"
      ]
     },
     "metadata": {},
     "output_type": "display_data"
    },
    {
     "name": "stdout",
     "output_type": "stream",
     "text": [
      "{'train_loss': 0.6576547622680664, 'train_accuracy': 0.9019264448336253, 'train_runtime': 2.5753, 'train_samples_per_second': 221.722, 'train_steps_per_second': 13.979, 'epoch': 2.0}\n"
     ]
    },
    {
     "data": {
      "application/vnd.jupyter.widget-view+json": {
       "model_id": "135b8b828dd74a4aa208d101df18882d",
       "version_major": 2,
       "version_minor": 0
      },
      "text/plain": [
       "  0%|          | 0/7 [00:00<?, ?it/s]"
      ]
     },
     "metadata": {},
     "output_type": "display_data"
    },
    {
     "name": "stdout",
     "output_type": "stream",
     "text": [
      "{'eval_loss': 0.6746252775192261, 'eval_accuracy': 0.8910891089108911, 'eval_runtime': 0.4791, 'eval_samples_per_second': 210.796, 'eval_steps_per_second': 14.61, 'epoch': 2.0}\n"
     ]
    },
    {
     "data": {
      "application/vnd.jupyter.widget-view+json": {
       "model_id": "1406bfa627544067a41d35979f42c3ac",
       "version_major": 2,
       "version_minor": 0
      },
      "text/plain": [
       "  0%|          | 0/36 [00:00<?, ?it/s]"
      ]
     },
     "metadata": {},
     "output_type": "display_data"
    },
    {
     "name": "stdout",
     "output_type": "stream",
     "text": [
      "{'train_loss': 0.376678466796875, 'train_accuracy': 0.9439579684763573, 'train_runtime': 2.5897, 'train_samples_per_second': 220.491, 'train_steps_per_second': 13.901, 'epoch': 3.0}\n"
     ]
    },
    {
     "data": {
      "application/vnd.jupyter.widget-view+json": {
       "model_id": "350484b7f07b49df8f93ed541d12a1db",
       "version_major": 2,
       "version_minor": 0
      },
      "text/plain": [
       "  0%|          | 0/7 [00:00<?, ?it/s]"
      ]
     },
     "metadata": {},
     "output_type": "display_data"
    },
    {
     "name": "stdout",
     "output_type": "stream",
     "text": [
      "{'eval_loss': 0.42432230710983276, 'eval_accuracy': 0.9207920792079208, 'eval_runtime': 0.4814, 'eval_samples_per_second': 209.824, 'eval_steps_per_second': 14.542, 'epoch': 3.0}\n"
     ]
    },
    {
     "data": {
      "application/vnd.jupyter.widget-view+json": {
       "model_id": "95ce7c0650c5429295c8cfbc7ab053e3",
       "version_major": 2,
       "version_minor": 0
      },
      "text/plain": [
       "  0%|          | 0/36 [00:00<?, ?it/s]"
      ]
     },
     "metadata": {},
     "output_type": "display_data"
    },
    {
     "name": "stdout",
     "output_type": "stream",
     "text": [
      "{'train_loss': 0.27485495805740356, 'train_accuracy': 0.9597197898423818, 'train_runtime': 2.592, 'train_samples_per_second': 220.296, 'train_steps_per_second': 13.889, 'epoch': 4.0}\n"
     ]
    },
    {
     "data": {
      "application/vnd.jupyter.widget-view+json": {
       "model_id": "675f074a15174b8e8d53ac63043d186e",
       "version_major": 2,
       "version_minor": 0
      },
      "text/plain": [
       "  0%|          | 0/7 [00:00<?, ?it/s]"
      ]
     },
     "metadata": {},
     "output_type": "display_data"
    },
    {
     "name": "stdout",
     "output_type": "stream",
     "text": [
      "{'eval_loss': 0.3409046530723572, 'eval_accuracy': 0.9306930693069307, 'eval_runtime': 0.4839, 'eval_samples_per_second': 208.704, 'eval_steps_per_second': 14.465, 'epoch': 4.0}\n"
     ]
    },
    {
     "data": {
      "application/vnd.jupyter.widget-view+json": {
       "model_id": "0b9b4eae81fa4ea9ada6117578a02143",
       "version_major": 2,
       "version_minor": 0
      },
      "text/plain": [
       "  0%|          | 0/36 [00:00<?, ?it/s]"
      ]
     },
     "metadata": {},
     "output_type": "display_data"
    },
    {
     "name": "stdout",
     "output_type": "stream",
     "text": [
      "{'train_loss': 0.24283617734909058, 'train_accuracy': 0.9649737302977233, 'train_runtime': 2.6162, 'train_samples_per_second': 218.253, 'train_steps_per_second': 13.76, 'epoch': 5.0}\n"
     ]
    },
    {
     "data": {
      "application/vnd.jupyter.widget-view+json": {
       "model_id": "1da6433a7a374da19c428383e32b109b",
       "version_major": 2,
       "version_minor": 0
      },
      "text/plain": [
       "  0%|          | 0/7 [00:00<?, ?it/s]"
      ]
     },
     "metadata": {},
     "output_type": "display_data"
    },
    {
     "name": "stdout",
     "output_type": "stream",
     "text": [
      "{'eval_loss': 0.3195231854915619, 'eval_accuracy': 0.9306930693069307, 'eval_runtime': 0.491, 'eval_samples_per_second': 205.723, 'eval_steps_per_second': 14.258, 'epoch': 5.0}\n",
      "{'train_runtime': 58.9569, 'train_samples_per_second': 48.425, 'train_steps_per_second': 3.053, 'train_loss': 0.773082987467448, 'epoch': 5.0}\n"
     ]
    }
   ],
   "source": [
    "import copy\n",
    "\n",
    "accuracy = evaluate.load(\"accuracy\")\n",
    "\n",
    "def compute_metrics(eval_pred):\n",
    "    predictions, labels = eval_pred\n",
    "    predictions = np.argmax(predictions, axis=1)\n",
    "    return accuracy.compute(predictions=predictions, references=labels)\n",
    "\n",
    "model = AutoModelForSequenceClassification.from_pretrained(\n",
    "    model_id, num_labels=6, id2label=id2label, label2id=label2id\n",
    ")\n",
    "\n",
    "training_args = TrainingArguments(\n",
    "    output_dir=f\"{models_dir}/roberta\",\n",
    "    learning_rate=2e-5,\n",
    "    per_device_train_batch_size=16,\n",
    "    per_device_eval_batch_size=16,\n",
    "    num_train_epochs=5,\n",
    "    weight_decay=0.01,\n",
    "    eval_strategy=\"epoch\",\n",
    "    save_strategy=\"epoch\",\n",
    "    load_best_model_at_end=True,\n",
    "    push_to_hub=False,\n",
    ")\n",
    "\n",
    "class AccuracyHistory(TrainerCallback):\n",
    "    def __init__(self, trainer):\n",
    "        super().__init__()\n",
    "        self.eval_acc = []\n",
    "        self.train_acc = []\n",
    "        self._trainer = trainer\n",
    "\n",
    "    def on_epoch_end(self, args, state, control, **kwargs):\n",
    "        if control.should_evaluate:\n",
    "            control_copy = copy.deepcopy(control)\n",
    "            self._trainer.evaluate(eval_dataset=self._trainer.train_dataset, metric_key_prefix=\"train\")\n",
    "            return control_copy\n",
    "\n",
    "    def on_evaluate(self, args, state, control, metrics=None, **kwargs):\n",
    "        if metrics is not None:\n",
    "            if metrics.get('eval_accuracy'):\n",
    "                self.eval_acc.append(metrics[\"eval_accuracy\"])\n",
    "            if metrics.get('train_accuracy'):\n",
    "                self.train_acc.append(metrics['train_accuracy'])\n",
    "            \n",
    "trainer = Trainer(\n",
    "    model=model,\n",
    "    args=training_args,\n",
    "    train_dataset=tokenized_train_data[\"train\"],\n",
    "    eval_dataset=tokenized_train_data[\"test\"],\n",
    "    tokenizer=tokenizer,\n",
    "    data_collator=data_collator,\n",
    "    compute_metrics=compute_metrics,\n",
    "    #callbacks=[accuracy_history]\n",
    ")\n",
    "\n",
    "trainer.add_callback(AccuracyHistory(trainer))\n",
    "\n",
    "trainer.train()\n",
    "trainer.save_model(f\"{models_dir}/best_roberta_llava\")"
   ]
  },
  {
   "cell_type": "markdown",
   "metadata": {},
   "source": [
    "### With CV"
   ]
  },
  {
   "cell_type": "code",
   "execution_count": 7,
   "metadata": {},
   "outputs": [
    {
     "name": "stdout",
     "output_type": "stream",
     "text": [
      "Training fold 1/5...\n"
     ]
    },
    {
     "data": {
      "application/vnd.jupyter.widget-view+json": {
       "model_id": "14d2c40df64b46dd9e4c440e9958fede",
       "version_major": 2,
       "version_minor": 0
      },
      "text/plain": [
       "model.safetensors:   0%|          | 0.00/440M [00:00<?, ?B/s]"
      ]
     },
     "metadata": {},
     "output_type": "display_data"
    },
    {
     "name": "stderr",
     "output_type": "stream",
     "text": [
      "Some weights of BertForSequenceClassification were not initialized from the model checkpoint at google-bert/bert-base-uncased and are newly initialized: ['classifier.bias', 'classifier.weight']\n",
      "You should probably TRAIN this model on a down-stream task to be able to use it for predictions and inference.\n"
     ]
    },
    {
     "data": {
      "application/vnd.jupyter.widget-view+json": {
       "model_id": "84d55bda8bc64fd88a97b703e1970f0a",
       "version_major": 2,
       "version_minor": 0
      },
      "text/plain": [
       "  0%|          | 0/240 [00:00<?, ?it/s]"
      ]
     },
     "metadata": {},
     "output_type": "display_data"
    },
    {
     "data": {
      "application/vnd.jupyter.widget-view+json": {
       "model_id": "7df43c1a08274ab590465c00faba7398",
       "version_major": 2,
       "version_minor": 0
      },
      "text/plain": [
       "  0%|          | 0/12 [00:00<?, ?it/s]"
      ]
     },
     "metadata": {},
     "output_type": "display_data"
    },
    {
     "name": "stdout",
     "output_type": "stream",
     "text": [
      "{'eval_loss': 1.0120586156845093, 'eval_accuracy': 0.75, 'eval_precision': 0.7120808931954442, 'eval_recall': 0.75, 'eval_runtime': 1.8406, 'eval_samples_per_second': 104.311, 'eval_steps_per_second': 6.519, 'epoch': 1.0}\n"
     ]
    },
    {
     "data": {
      "application/vnd.jupyter.widget-view+json": {
       "model_id": "fd9b3454feae4841a8bd3f1456b1d153",
       "version_major": 2,
       "version_minor": 0
      },
      "text/plain": [
       "  0%|          | 0/12 [00:00<?, ?it/s]"
      ]
     },
     "metadata": {},
     "output_type": "display_data"
    },
    {
     "name": "stdout",
     "output_type": "stream",
     "text": [
      "{'eval_loss': 0.4865931272506714, 'eval_accuracy': 0.8854166666666666, 'eval_precision': 0.8864438937968351, 'eval_recall': 0.8854166666666666, 'eval_runtime': 1.8488, 'eval_samples_per_second': 103.852, 'eval_steps_per_second': 6.491, 'epoch': 2.0}\n"
     ]
    },
    {
     "data": {
      "application/vnd.jupyter.widget-view+json": {
       "model_id": "a0f96c0c500943ada2866331cbafd1a5",
       "version_major": 2,
       "version_minor": 0
      },
      "text/plain": [
       "  0%|          | 0/12 [00:00<?, ?it/s]"
      ]
     },
     "metadata": {},
     "output_type": "display_data"
    },
    {
     "name": "stdout",
     "output_type": "stream",
     "text": [
      "{'eval_loss': 0.34788838028907776, 'eval_accuracy': 0.9114583333333334, 'eval_precision': 0.9219455585264408, 'eval_recall': 0.9114583333333334, 'eval_runtime': 1.9727, 'eval_samples_per_second': 97.331, 'eval_steps_per_second': 6.083, 'epoch': 3.0}\n"
     ]
    },
    {
     "data": {
      "application/vnd.jupyter.widget-view+json": {
       "model_id": "f0e1ac8014a647ba9cb038c871290281",
       "version_major": 2,
       "version_minor": 0
      },
      "text/plain": [
       "  0%|          | 0/12 [00:00<?, ?it/s]"
      ]
     },
     "metadata": {},
     "output_type": "display_data"
    },
    {
     "name": "stdout",
     "output_type": "stream",
     "text": [
      "{'eval_loss': 0.26044249534606934, 'eval_accuracy': 0.9270833333333334, 'eval_precision': 0.9288468401371629, 'eval_recall': 0.9270833333333334, 'eval_runtime': 1.9836, 'eval_samples_per_second': 96.795, 'eval_steps_per_second': 6.05, 'epoch': 4.0}\n"
     ]
    },
    {
     "data": {
      "application/vnd.jupyter.widget-view+json": {
       "model_id": "1ff4325ec0214ee29345f821b0b17172",
       "version_major": 2,
       "version_minor": 0
      },
      "text/plain": [
       "  0%|          | 0/12 [00:00<?, ?it/s]"
      ]
     },
     "metadata": {},
     "output_type": "display_data"
    },
    {
     "name": "stdout",
     "output_type": "stream",
     "text": [
      "{'eval_loss': 0.2621481120586395, 'eval_accuracy': 0.921875, 'eval_precision': 0.9244019190255749, 'eval_recall': 0.921875, 'eval_runtime': 1.9644, 'eval_samples_per_second': 97.741, 'eval_steps_per_second': 6.109, 'epoch': 5.0}\n",
      "{'train_runtime': 127.0967, 'train_samples_per_second': 30.213, 'train_steps_per_second': 1.888, 'train_loss': 0.5666521708170573, 'epoch': 5.0}\n"
     ]
    },
    {
     "data": {
      "application/vnd.jupyter.widget-view+json": {
       "model_id": "20cdca69bd1a4601aa59f0d0e196770a",
       "version_major": 2,
       "version_minor": 0
      },
      "text/plain": [
       "  0%|          | 0/12 [00:00<?, ?it/s]"
      ]
     },
     "metadata": {},
     "output_type": "display_data"
    },
    {
     "name": "stdout",
     "output_type": "stream",
     "text": [
      "Fold 1 accuracy: 0.9271\n",
      "Fold 1 precision: 0.9288\n",
      "Fold 1 recall: 0.9271\n",
      "Training fold 2/5...\n"
     ]
    },
    {
     "name": "stderr",
     "output_type": "stream",
     "text": [
      "Some weights of BertForSequenceClassification were not initialized from the model checkpoint at google-bert/bert-base-uncased and are newly initialized: ['classifier.bias', 'classifier.weight']\n",
      "You should probably TRAIN this model on a down-stream task to be able to use it for predictions and inference.\n"
     ]
    },
    {
     "data": {
      "application/vnd.jupyter.widget-view+json": {
       "model_id": "32f9925e8e3a4bacac913f6107cb1362",
       "version_major": 2,
       "version_minor": 0
      },
      "text/plain": [
       "  0%|          | 0/240 [00:00<?, ?it/s]"
      ]
     },
     "metadata": {},
     "output_type": "display_data"
    },
    {
     "data": {
      "application/vnd.jupyter.widget-view+json": {
       "model_id": "1c4a2fc30aa7494da1d30c4ff62c6186",
       "version_major": 2,
       "version_minor": 0
      },
      "text/plain": [
       "  0%|          | 0/12 [00:00<?, ?it/s]"
      ]
     },
     "metadata": {},
     "output_type": "display_data"
    },
    {
     "name": "stdout",
     "output_type": "stream",
     "text": [
      "{'eval_loss': 0.9663729667663574, 'eval_accuracy': 0.8541666666666666, 'eval_precision': 0.8742959968766422, 'eval_recall': 0.8541666666666666, 'eval_runtime': 1.5894, 'eval_samples_per_second': 120.803, 'eval_steps_per_second': 7.55, 'epoch': 1.0}\n"
     ]
    },
    {
     "data": {
      "application/vnd.jupyter.widget-view+json": {
       "model_id": "08514f65552642d7b9951008a2414ec0",
       "version_major": 2,
       "version_minor": 0
      },
      "text/plain": [
       "  0%|          | 0/12 [00:00<?, ?it/s]"
      ]
     },
     "metadata": {},
     "output_type": "display_data"
    },
    {
     "name": "stdout",
     "output_type": "stream",
     "text": [
      "{'eval_loss': 0.4330202639102936, 'eval_accuracy': 0.90625, 'eval_precision': 0.917930742141646, 'eval_recall': 0.90625, 'eval_runtime': 1.5968, 'eval_samples_per_second': 120.244, 'eval_steps_per_second': 7.515, 'epoch': 2.0}\n"
     ]
    },
    {
     "data": {
      "application/vnd.jupyter.widget-view+json": {
       "model_id": "cedc3b62f3c14c15ac7d04710f68d358",
       "version_major": 2,
       "version_minor": 0
      },
      "text/plain": [
       "  0%|          | 0/12 [00:00<?, ?it/s]"
      ]
     },
     "metadata": {},
     "output_type": "display_data"
    },
    {
     "name": "stdout",
     "output_type": "stream",
     "text": [
      "{'eval_loss': 0.24013738334178925, 'eval_accuracy': 0.9375, 'eval_precision': 0.9419161808867691, 'eval_recall': 0.9375, 'eval_runtime': 1.6084, 'eval_samples_per_second': 119.377, 'eval_steps_per_second': 7.461, 'epoch': 3.0}\n"
     ]
    },
    {
     "data": {
      "application/vnd.jupyter.widget-view+json": {
       "model_id": "3bca24d16f2844098bda135695d52b34",
       "version_major": 2,
       "version_minor": 0
      },
      "text/plain": [
       "  0%|          | 0/12 [00:00<?, ?it/s]"
      ]
     },
     "metadata": {},
     "output_type": "display_data"
    },
    {
     "name": "stdout",
     "output_type": "stream",
     "text": [
      "{'eval_loss': 0.22110317647457123, 'eval_accuracy': 0.9270833333333334, 'eval_precision': 0.9277363159716102, 'eval_recall': 0.9270833333333334, 'eval_runtime': 1.7231, 'eval_samples_per_second': 111.425, 'eval_steps_per_second': 6.964, 'epoch': 4.0}\n"
     ]
    },
    {
     "data": {
      "application/vnd.jupyter.widget-view+json": {
       "model_id": "842f0c8b547547658dc598ff76e6cec1",
       "version_major": 2,
       "version_minor": 0
      },
      "text/plain": [
       "  0%|          | 0/12 [00:00<?, ?it/s]"
      ]
     },
     "metadata": {},
     "output_type": "display_data"
    },
    {
     "name": "stdout",
     "output_type": "stream",
     "text": [
      "{'eval_loss': 0.21514730155467987, 'eval_accuracy': 0.9270833333333334, 'eval_precision': 0.9302911467617351, 'eval_recall': 0.9270833333333334, 'eval_runtime': 1.7326, 'eval_samples_per_second': 110.818, 'eval_steps_per_second': 6.926, 'epoch': 5.0}\n",
      "{'train_runtime': 122.0427, 'train_samples_per_second': 31.464, 'train_steps_per_second': 1.967, 'train_loss': 0.5355585098266602, 'epoch': 5.0}\n"
     ]
    },
    {
     "data": {
      "application/vnd.jupyter.widget-view+json": {
       "model_id": "a66b4f6220af4e1285a99ba0215753cf",
       "version_major": 2,
       "version_minor": 0
      },
      "text/plain": [
       "  0%|          | 0/12 [00:00<?, ?it/s]"
      ]
     },
     "metadata": {},
     "output_type": "display_data"
    },
    {
     "name": "stdout",
     "output_type": "stream",
     "text": [
      "Fold 2 accuracy: 0.9271\n",
      "Fold 2 precision: 0.9303\n",
      "Fold 2 recall: 0.9271\n",
      "Training fold 3/5...\n"
     ]
    },
    {
     "name": "stderr",
     "output_type": "stream",
     "text": [
      "Some weights of BertForSequenceClassification were not initialized from the model checkpoint at google-bert/bert-base-uncased and are newly initialized: ['classifier.bias', 'classifier.weight']\n",
      "You should probably TRAIN this model on a down-stream task to be able to use it for predictions and inference.\n"
     ]
    },
    {
     "data": {
      "application/vnd.jupyter.widget-view+json": {
       "model_id": "7c504263260448e48ed46d3b5a3a4078",
       "version_major": 2,
       "version_minor": 0
      },
      "text/plain": [
       "  0%|          | 0/240 [00:00<?, ?it/s]"
      ]
     },
     "metadata": {},
     "output_type": "display_data"
    },
    {
     "data": {
      "application/vnd.jupyter.widget-view+json": {
       "model_id": "28adbc725a33438bb288153a357aa754",
       "version_major": 2,
       "version_minor": 0
      },
      "text/plain": [
       "  0%|          | 0/12 [00:00<?, ?it/s]"
      ]
     },
     "metadata": {},
     "output_type": "display_data"
    },
    {
     "name": "stdout",
     "output_type": "stream",
     "text": [
      "{'eval_loss': 0.9852814674377441, 'eval_accuracy': 0.84375, 'eval_precision': 0.8656290674439496, 'eval_recall': 0.84375, 'eval_runtime': 1.6754, 'eval_samples_per_second': 114.597, 'eval_steps_per_second': 7.162, 'epoch': 1.0}\n"
     ]
    },
    {
     "data": {
      "application/vnd.jupyter.widget-view+json": {
       "model_id": "643e2a96ec714af5a6bb6363ad1bc64b",
       "version_major": 2,
       "version_minor": 0
      },
      "text/plain": [
       "  0%|          | 0/12 [00:00<?, ?it/s]"
      ]
     },
     "metadata": {},
     "output_type": "display_data"
    },
    {
     "name": "stdout",
     "output_type": "stream",
     "text": [
      "{'eval_loss': 0.40310195088386536, 'eval_accuracy': 0.9427083333333334, 'eval_precision': 0.9430816705959021, 'eval_recall': 0.9427083333333334, 'eval_runtime': 1.6786, 'eval_samples_per_second': 114.382, 'eval_steps_per_second': 7.149, 'epoch': 2.0}\n"
     ]
    },
    {
     "data": {
      "application/vnd.jupyter.widget-view+json": {
       "model_id": "cd886fd09e7a4a63a9c382a24b05a4d2",
       "version_major": 2,
       "version_minor": 0
      },
      "text/plain": [
       "  0%|          | 0/12 [00:00<?, ?it/s]"
      ]
     },
     "metadata": {},
     "output_type": "display_data"
    },
    {
     "name": "stdout",
     "output_type": "stream",
     "text": [
      "{'eval_loss': 0.22474415600299835, 'eval_accuracy': 0.9427083333333334, 'eval_precision': 0.9442054473304472, 'eval_recall': 0.9427083333333334, 'eval_runtime': 1.6838, 'eval_samples_per_second': 114.028, 'eval_steps_per_second': 7.127, 'epoch': 3.0}\n"
     ]
    },
    {
     "data": {
      "application/vnd.jupyter.widget-view+json": {
       "model_id": "92747e4bb5df491aa3230bfd41b35d58",
       "version_major": 2,
       "version_minor": 0
      },
      "text/plain": [
       "  0%|          | 0/12 [00:00<?, ?it/s]"
      ]
     },
     "metadata": {},
     "output_type": "display_data"
    },
    {
     "name": "stdout",
     "output_type": "stream",
     "text": [
      "{'eval_loss': 0.16735418140888214, 'eval_accuracy': 0.9635416666666666, 'eval_precision': 0.9641627973281199, 'eval_recall': 0.9635416666666666, 'eval_runtime': 1.6851, 'eval_samples_per_second': 113.942, 'eval_steps_per_second': 7.121, 'epoch': 4.0}\n"
     ]
    },
    {
     "data": {
      "application/vnd.jupyter.widget-view+json": {
       "model_id": "6b2fdd5624ec4e0e8f07de2cc998ae76",
       "version_major": 2,
       "version_minor": 0
      },
      "text/plain": [
       "  0%|          | 0/12 [00:00<?, ?it/s]"
      ]
     },
     "metadata": {},
     "output_type": "display_data"
    },
    {
     "name": "stdout",
     "output_type": "stream",
     "text": [
      "{'eval_loss': 0.15885527431964874, 'eval_accuracy': 0.9635416666666666, 'eval_precision': 0.964608430126694, 'eval_recall': 0.9635416666666666, 'eval_runtime': 1.8136, 'eval_samples_per_second': 105.869, 'eval_steps_per_second': 6.617, 'epoch': 5.0}\n",
      "{'train_runtime': 118.1673, 'train_samples_per_second': 32.496, 'train_steps_per_second': 2.031, 'train_loss': 0.5098754564921061, 'epoch': 5.0}\n"
     ]
    },
    {
     "data": {
      "application/vnd.jupyter.widget-view+json": {
       "model_id": "48797d3c32144a65b26bf1904a28a1f9",
       "version_major": 2,
       "version_minor": 0
      },
      "text/plain": [
       "  0%|          | 0/12 [00:00<?, ?it/s]"
      ]
     },
     "metadata": {},
     "output_type": "display_data"
    },
    {
     "name": "stdout",
     "output_type": "stream",
     "text": [
      "Fold 3 accuracy: 0.9635\n",
      "Fold 3 precision: 0.9646\n",
      "Fold 3 recall: 0.9635\n",
      "Training fold 4/5...\n"
     ]
    },
    {
     "name": "stderr",
     "output_type": "stream",
     "text": [
      "Some weights of BertForSequenceClassification were not initialized from the model checkpoint at google-bert/bert-base-uncased and are newly initialized: ['classifier.bias', 'classifier.weight']\n",
      "You should probably TRAIN this model on a down-stream task to be able to use it for predictions and inference.\n"
     ]
    },
    {
     "data": {
      "application/vnd.jupyter.widget-view+json": {
       "model_id": "cbbfc5f0e899492786059c3ff3486d4d",
       "version_major": 2,
       "version_minor": 0
      },
      "text/plain": [
       "  0%|          | 0/240 [00:00<?, ?it/s]"
      ]
     },
     "metadata": {},
     "output_type": "display_data"
    },
    {
     "data": {
      "application/vnd.jupyter.widget-view+json": {
       "model_id": "b9755bc1528d48f59477583f2855a6d7",
       "version_major": 2,
       "version_minor": 0
      },
      "text/plain": [
       "  0%|          | 0/12 [00:00<?, ?it/s]"
      ]
     },
     "metadata": {},
     "output_type": "display_data"
    },
    {
     "name": "stdout",
     "output_type": "stream",
     "text": [
      "{'eval_loss': 0.9986527562141418, 'eval_accuracy': 0.859375, 'eval_precision': 0.8737872851365015, 'eval_recall': 0.859375, 'eval_runtime': 1.6973, 'eval_samples_per_second': 113.123, 'eval_steps_per_second': 7.07, 'epoch': 1.0}\n"
     ]
    },
    {
     "data": {
      "application/vnd.jupyter.widget-view+json": {
       "model_id": "8de15c6b18e74c62a0763e81b36f9a12",
       "version_major": 2,
       "version_minor": 0
      },
      "text/plain": [
       "  0%|          | 0/12 [00:00<?, ?it/s]"
      ]
     },
     "metadata": {},
     "output_type": "display_data"
    },
    {
     "name": "stdout",
     "output_type": "stream",
     "text": [
      "{'eval_loss': 0.43167003989219666, 'eval_accuracy': 0.9114583333333334, 'eval_precision': 0.9120060566929636, 'eval_recall': 0.9114583333333334, 'eval_runtime': 1.7086, 'eval_samples_per_second': 112.375, 'eval_steps_per_second': 7.023, 'epoch': 2.0}\n"
     ]
    },
    {
     "data": {
      "application/vnd.jupyter.widget-view+json": {
       "model_id": "2545a4784e1f45ebbe025a2ec8fb2484",
       "version_major": 2,
       "version_minor": 0
      },
      "text/plain": [
       "  0%|          | 0/12 [00:00<?, ?it/s]"
      ]
     },
     "metadata": {},
     "output_type": "display_data"
    },
    {
     "name": "stdout",
     "output_type": "stream",
     "text": [
      "{'eval_loss': 0.2544163763523102, 'eval_accuracy': 0.9375, 'eval_precision': 0.9370517317386389, 'eval_recall': 0.9375, 'eval_runtime': 1.7072, 'eval_samples_per_second': 112.467, 'eval_steps_per_second': 7.029, 'epoch': 3.0}\n"
     ]
    },
    {
     "data": {
      "application/vnd.jupyter.widget-view+json": {
       "model_id": "1ee2644c78d4482a871517e4e1602163",
       "version_major": 2,
       "version_minor": 0
      },
      "text/plain": [
       "  0%|          | 0/12 [00:00<?, ?it/s]"
      ]
     },
     "metadata": {},
     "output_type": "display_data"
    },
    {
     "name": "stdout",
     "output_type": "stream",
     "text": [
      "{'eval_loss': 0.2033265233039856, 'eval_accuracy': 0.9427083333333334, 'eval_precision': 0.9441102198455139, 'eval_recall': 0.9427083333333334, 'eval_runtime': 1.7042, 'eval_samples_per_second': 112.662, 'eval_steps_per_second': 7.041, 'epoch': 4.0}\n"
     ]
    },
    {
     "data": {
      "application/vnd.jupyter.widget-view+json": {
       "model_id": "2528ef5f7c564ab79bfaea5bb20cb6ec",
       "version_major": 2,
       "version_minor": 0
      },
      "text/plain": [
       "  0%|          | 0/12 [00:00<?, ?it/s]"
      ]
     },
     "metadata": {},
     "output_type": "display_data"
    },
    {
     "name": "stdout",
     "output_type": "stream",
     "text": [
      "{'eval_loss': 0.19693906605243683, 'eval_accuracy': 0.9427083333333334, 'eval_precision': 0.9430673944840012, 'eval_recall': 0.9427083333333334, 'eval_runtime': 1.8314, 'eval_samples_per_second': 104.839, 'eval_steps_per_second': 6.552, 'epoch': 5.0}\n",
      "{'train_runtime': 118.4623, 'train_samples_per_second': 32.415, 'train_steps_per_second': 2.026, 'train_loss': 0.550137456258138, 'epoch': 5.0}\n"
     ]
    },
    {
     "data": {
      "application/vnd.jupyter.widget-view+json": {
       "model_id": "171bd163ee9647ce985fb520bfb143fe",
       "version_major": 2,
       "version_minor": 0
      },
      "text/plain": [
       "  0%|          | 0/12 [00:00<?, ?it/s]"
      ]
     },
     "metadata": {},
     "output_type": "display_data"
    },
    {
     "name": "stdout",
     "output_type": "stream",
     "text": [
      "Fold 4 accuracy: 0.9427\n",
      "Fold 4 precision: 0.9431\n",
      "Fold 4 recall: 0.9427\n",
      "Training fold 5/5...\n"
     ]
    },
    {
     "name": "stderr",
     "output_type": "stream",
     "text": [
      "Some weights of BertForSequenceClassification were not initialized from the model checkpoint at google-bert/bert-base-uncased and are newly initialized: ['classifier.bias', 'classifier.weight']\n",
      "You should probably TRAIN this model on a down-stream task to be able to use it for predictions and inference.\n"
     ]
    },
    {
     "data": {
      "application/vnd.jupyter.widget-view+json": {
       "model_id": "78ae21d46ccf4384a3e4f9f0b4a1285c",
       "version_major": 2,
       "version_minor": 0
      },
      "text/plain": [
       "  0%|          | 0/240 [00:00<?, ?it/s]"
      ]
     },
     "metadata": {},
     "output_type": "display_data"
    },
    {
     "data": {
      "application/vnd.jupyter.widget-view+json": {
       "model_id": "6d45a8b342b1471486521f007fcfa90a",
       "version_major": 2,
       "version_minor": 0
      },
      "text/plain": [
       "  0%|          | 0/12 [00:00<?, ?it/s]"
      ]
     },
     "metadata": {},
     "output_type": "display_data"
    },
    {
     "name": "stdout",
     "output_type": "stream",
     "text": [
      "{'eval_loss': 1.0005451440811157, 'eval_accuracy': 0.84375, 'eval_precision': 0.8445217945217944, 'eval_recall': 0.84375, 'eval_runtime': 1.6954, 'eval_samples_per_second': 113.245, 'eval_steps_per_second': 7.078, 'epoch': 1.0}\n"
     ]
    },
    {
     "data": {
      "application/vnd.jupyter.widget-view+json": {
       "model_id": "a36e26fc6685415e82843d4d81051d01",
       "version_major": 2,
       "version_minor": 0
      },
      "text/plain": [
       "  0%|          | 0/12 [00:00<?, ?it/s]"
      ]
     },
     "metadata": {},
     "output_type": "display_data"
    },
    {
     "name": "stdout",
     "output_type": "stream",
     "text": [
      "{'eval_loss': 0.38629257678985596, 'eval_accuracy': 0.9479166666666666, 'eval_precision': 0.9504292203645651, 'eval_recall': 0.9479166666666666, 'eval_runtime': 1.7004, 'eval_samples_per_second': 112.916, 'eval_steps_per_second': 7.057, 'epoch': 2.0}\n"
     ]
    },
    {
     "data": {
      "application/vnd.jupyter.widget-view+json": {
       "model_id": "4133658287b04d9c9a209814023f8100",
       "version_major": 2,
       "version_minor": 0
      },
      "text/plain": [
       "  0%|          | 0/12 [00:00<?, ?it/s]"
      ]
     },
     "metadata": {},
     "output_type": "display_data"
    },
    {
     "name": "stdout",
     "output_type": "stream",
     "text": [
      "{'eval_loss': 0.194372296333313, 'eval_accuracy': 0.9791666666666666, 'eval_precision': 0.9805059523809524, 'eval_recall': 0.9791666666666666, 'eval_runtime': 1.7048, 'eval_samples_per_second': 112.622, 'eval_steps_per_second': 7.039, 'epoch': 3.0}\n"
     ]
    },
    {
     "data": {
      "application/vnd.jupyter.widget-view+json": {
       "model_id": "37bea1c9119c43d194662cf8e2f32f31",
       "version_major": 2,
       "version_minor": 0
      },
      "text/plain": [
       "  0%|          | 0/12 [00:00<?, ?it/s]"
      ]
     },
     "metadata": {},
     "output_type": "display_data"
    },
    {
     "name": "stdout",
     "output_type": "stream",
     "text": [
      "{'eval_loss': 0.15460869669914246, 'eval_accuracy': 0.96875, 'eval_precision': 0.9713804713804715, 'eval_recall': 0.96875, 'eval_runtime': 1.8492, 'eval_samples_per_second': 103.829, 'eval_steps_per_second': 6.489, 'epoch': 4.0}\n"
     ]
    },
    {
     "data": {
      "application/vnd.jupyter.widget-view+json": {
       "model_id": "20b3d4167b8c48eabfd77d8f77498c15",
       "version_major": 2,
       "version_minor": 0
      },
      "text/plain": [
       "  0%|          | 0/12 [00:00<?, ?it/s]"
      ]
     },
     "metadata": {},
     "output_type": "display_data"
    },
    {
     "name": "stdout",
     "output_type": "stream",
     "text": [
      "{'eval_loss': 0.13887637853622437, 'eval_accuracy': 0.9791666666666666, 'eval_precision': 0.9806637806637807, 'eval_recall': 0.9791666666666666, 'eval_runtime': 1.8372, 'eval_samples_per_second': 104.509, 'eval_steps_per_second': 6.532, 'epoch': 5.0}\n",
      "{'train_runtime': 121.0376, 'train_samples_per_second': 31.726, 'train_steps_per_second': 1.983, 'train_loss': 0.5347159067789714, 'epoch': 5.0}\n"
     ]
    },
    {
     "data": {
      "application/vnd.jupyter.widget-view+json": {
       "model_id": "c953ad55295f4c14ae94e4ec3c561406",
       "version_major": 2,
       "version_minor": 0
      },
      "text/plain": [
       "  0%|          | 0/12 [00:00<?, ?it/s]"
      ]
     },
     "metadata": {},
     "output_type": "display_data"
    },
    {
     "name": "stdout",
     "output_type": "stream",
     "text": [
      "Fold 5 accuracy: 0.9792\n",
      "Fold 5 precision: 0.9807\n",
      "Fold 5 recall: 0.9792\n",
      "\n",
      "Mean accuracy across 5 folds: 0.9479\n",
      "Mean precision across 5 folds: 0.9495\n",
      "Mean recall across 5 folds: 0.9479\n"
     ]
    }
   ],
   "source": [
    "from sklearn.model_selection import StratifiedKFold\n",
    "import numpy as np\n",
    "import copy\n",
    "import evaluate\n",
    "\n",
    "# Load accuracy, precision, and recall metrics\n",
    "accuracy = evaluate.load(\"accuracy\")\n",
    "precision_metric = evaluate.load(\"precision\")\n",
    "recall_metric = evaluate.load(\"recall\")\n",
    "\n",
    "# Function to compute evaluation metrics\n",
    "def compute_metrics(eval_pred):\n",
    "    predictions, labels = eval_pred\n",
    "    predictions = np.argmax(predictions, axis=1)\n",
    "    \n",
    "    # Compute metrics\n",
    "    accuracy_result = accuracy.compute(predictions=predictions, references=labels)\n",
    "    precision_result = precision_metric.compute(predictions=predictions, references=labels, average='macro')\n",
    "    recall_result = recall_metric.compute(predictions=predictions, references=labels, average='macro')\n",
    "    \n",
    "    return {\n",
    "        'accuracy': accuracy_result['accuracy'],\n",
    "        'precision': precision_result['precision'],\n",
    "        'recall': recall_result['recall']\n",
    "    }\n",
    "\n",
    "# Define the number of folds\n",
    "n_splits = 5  # K-Fold with 5 splits\n",
    "\n",
    "# Initialize K-Fold cross-validator\n",
    "kf = StratifiedKFold(n_splits=n_splits, shuffle=True, random_state=42)\n",
    "\n",
    "# Tokenized dataset (replace with your actual dataset)\n",
    "train_dataset = tokenized_train_data\n",
    "train_labels = train_dataset['label']  # Extract the labels for stratification\n",
    "train_dataset_size = len(train_dataset)\n",
    "\n",
    "# Arrays to store results for each fold\n",
    "fold_accuracies = []\n",
    "fold_precisions = []\n",
    "fold_recalls = []\n",
    "\n",
    "# Stratified K-Fold loop\n",
    "for fold, (train_idx, val_idx) in enumerate(kf.split(train_dataset, train_labels)):\n",
    "    print(f\"Training fold {fold + 1}/{n_splits}...\")\n",
    "    \n",
    "    # Create train and validation sets for this fold\n",
    "    train_subset = train_dataset.select(train_idx.tolist())\n",
    "    val_subset = train_dataset.select(val_idx.tolist())\n",
    "\n",
    "    # Initialize model for the current fold\n",
    "    model = AutoModelForSequenceClassification.from_pretrained(\n",
    "        model_id, num_labels=6, id2label=id2label, label2id=label2id\n",
    "    )\n",
    "\n",
    "    # Define training arguments for the current fold\n",
    "    training_args = TrainingArguments(\n",
    "        output_dir=f\"{models_dir}/roberta-fold-{fold + 1}\",\n",
    "        learning_rate=2e-5,\n",
    "        per_device_train_batch_size=16,\n",
    "        per_device_eval_batch_size=16,\n",
    "        num_train_epochs=5,\n",
    "        weight_decay=0.01,\n",
    "        eval_strategy=\"epoch\",\n",
    "        save_strategy=\"epoch\",\n",
    "        load_best_model_at_end=True,\n",
    "        push_to_hub=False,\n",
    "    )\n",
    "\n",
    "    # Initialize Trainer for this fold\n",
    "    trainer = Trainer(\n",
    "        model=model,\n",
    "        args=training_args,\n",
    "        train_dataset=train_subset,\n",
    "        eval_dataset=val_subset,\n",
    "        tokenizer=tokenizer,\n",
    "        data_collator=data_collator,\n",
    "        compute_metrics=compute_metrics,\n",
    "    )\n",
    "\n",
    "    # Add the AccuracyHistory callback\n",
    "    # trainer.add_callback(AccuracyHistory(trainer))\n",
    "\n",
    "    # Train the model\n",
    "    trainer.train()\n",
    "\n",
    "    # Evaluate the model on the validation subset\n",
    "    eval_results = trainer.evaluate(eval_dataset=val_subset)\n",
    "    \n",
    "    # Store the metrics for this fold\n",
    "    fold_accuracies.append(eval_results['eval_accuracy'])\n",
    "    fold_precisions.append(eval_results['eval_precision'])\n",
    "    fold_recalls.append(eval_results['eval_recall'])\n",
    "    \n",
    "    print(f\"Fold {fold + 1} accuracy: {eval_results['eval_accuracy']:.4f}\")\n",
    "    print(f\"Fold {fold + 1} precision: {eval_results['eval_precision']:.4f}\")\n",
    "    print(f\"Fold {fold + 1} recall: {eval_results['eval_recall']:.4f}\")\n",
    "\n",
    "# Compute the mean accuracy, precision, and recall across all folds\n",
    "mean_accuracy = np.mean(fold_accuracies)\n",
    "mean_precision = np.mean(fold_precisions)\n",
    "mean_recall = np.mean(fold_recalls)\n",
    "\n",
    "print(f\"\\nMean accuracy across {n_splits} folds: {mean_accuracy:.4f}\")\n",
    "print(f\"Mean precision across {n_splits} folds: {mean_precision:.4f}\")\n",
    "print(f\"Mean recall across {n_splits} folds: {mean_recall:.4f}\")\n"
   ]
  },
  {
   "cell_type": "code",
   "execution_count": 7,
   "metadata": {},
   "outputs": [],
   "source": [
    "accuracy_history = trainer.pop_callback(AccuracyHistory)"
   ]
  },
  {
   "cell_type": "code",
   "execution_count": 8,
   "metadata": {},
   "outputs": [
    {
     "data": {
      "image/png": "[encoded data removed]",
      "text/plain": [
       "<Figure size 1000x500 with 1 Axes>"
      ]
     },
     "metadata": {},
     "output_type": "display_data"
    }
   ],
   "source": [
    "# Plot the train and test accuracy evolution\n",
    "plt.figure(figsize=(10, 5))\n",
    "plt.plot(accuracy_history.eval_acc, label='Eval Accuracy')\n",
    "plt.plot(accuracy_history.train_acc, label='Train Accuracy')\n",
    "plt.xlabel('Epoch')\n",
    "plt.ylabel('Accuracy')\n",
    "plt.title('Accuracy Evolution')\n",
    "plt.legend()\n",
    "plt.show()"
   ]
  },
  {
   "cell_type": "code",
   "execution_count": 9,
   "metadata": {},
   "outputs": [
    {
     "data": {
      "application/vnd.jupyter.widget-view+json": {
       "model_id": "d2987707e5d549e9a5510955dd460b29",
       "version_major": 2,
       "version_minor": 0
      },
      "text/plain": [
       "  0%|          | 0/18 [00:00<?, ?it/s]"
      ]
     },
     "metadata": {},
     "output_type": "display_data"
    }
   ],
   "source": [
    "\n",
    "# After training, evaluate the model on the test set and compute the confusion matrix\n",
    "predictions, labels, _ = trainer.predict(tokenized_test_data)\n",
    "predictions = np.argmax(predictions, axis=1)\n",
    "\n",
    "# Compute the confusion matrix\n",
    "cm = confusion_matrix(labels, predictions, labels=list(label2id.values()))\n",
    "disp = ConfusionMatrixDisplay(confusion_matrix=cm, display_labels=list(label2id.keys()))"
   ]
  },
  {
   "cell_type": "code",
   "execution_count": 10,
   "metadata": {},
   "outputs": [
    {
     "data": {
      "image/png": "[encoded data removed]",
      "text/plain": [
       "<Figure size 640x480 with 2 Axes>"
      ]
     },
     "metadata": {},
     "output_type": "display_data"
    }
   ],
   "source": [
    "\n",
    "# Plot the confusion matrix\n",
    "disp.plot(cmap=plt.cm.Blues)\n",
    "plt.title('Confusion Matrix')\n",
    "plt.xticks(rotation=90)\n",
    "plt.show()"
   ]
  },
  {
   "cell_type": "code",
   "execution_count": 11,
   "metadata": {},
   "outputs": [
    {
     "name": "stdout",
     "output_type": "stream",
     "text": [
      "F1: 0.9332326092561489\n",
      "Accuracy: 0.9340277777777778\n",
      "Precision: 0.9333794638217091\n",
      "Recall: 0.9340277777777778\n",
      "-------- Report --------\n",
      "Class\tPrecission\tRecall\n",
      "Cultural_Religious\tFauna_Flora\tGastronomy\tNature\tSports\tUrban_Rural\n",
      "87.5\t95.83\t100.0\t91.67\t100.0\t85.42\n"
     ]
    }
   ],
   "source": [
    "acc = accuracy_score(labels, predictions)\n",
    "f1 = f1_score(labels, predictions, average='macro')\n",
    "precision = precision_score(labels, predictions, average='macro')\n",
    "recall = recall_score(labels, predictions, average='macro')\n",
    "report = classification_report(labels, predictions, output_dict=True)\n",
    "\n",
    "print(f\"F1: {f1}\")\n",
    "print(f\"Accuracy: {acc}\")\n",
    "print(f\"Precision: {precision}\")\n",
    "print(f\"Recall: {recall}\")\n",
    "print(f\"-------- Report --------\")\n",
    "print(\"Class\\tPrecission\\tRecall\")\n",
    "cm = cm.astype('float') / cm.sum(axis=1)[:, np.newaxis]\n",
    "classes = []\n",
    "class_accuracy = []\n",
    "for old_key, new_key in id2label.items():\n",
    "    classes.append(new_key)\n",
    "    class_accuracy.append(str(round(cm.diagonal()[old_key]*100, 2)))\n",
    "print('\\t'.join(classes))\n",
    "print('\\t'.join(class_accuracy))\n",
    "# print(cm.diagonal())"
   ]
  },
  {
   "cell_type": "code",
   "execution_count": null,
   "metadata": {},
   "outputs": [],
   "source": []
  }
 ],
 "metadata": {
  "kernelspec": {
   "display_name": "venv",
   "language": "python",
   "name": "python3"
  },
  "language_info": {
   "codemirror_mode": {
    "name": "ipython",
    "version": 3
   },
   "file_extension": ".py",
   "mimetype": "text/x-python",
   "name": "python",
   "nbconvert_exporter": "python",
   "pygments_lexer": "ipython3",
   "version": "3.12.6"
  }
 },
 "nbformat": 4,
 "nbformat_minor": 2
}
