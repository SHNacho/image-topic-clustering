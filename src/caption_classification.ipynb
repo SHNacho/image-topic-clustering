{
 "cells": [
  {
   "cell_type": "code",
   "execution_count": 1,
   "metadata": {},
   "outputs": [
    {
     "name": "stdout",
     "output_type": "stream",
     "text": [
      "Using cuda\n"
     ]
    }
   ],
   "source": [
    "import evaluate\n",
    "import json\n",
    "import matplotlib.pyplot as plt\n",
    "import numpy as np\n",
    "import os\n",
    "import pandas as pd\n",
    "import seaborn as sns\n",
    "import torch\n",
    "\n",
    "from datasets import Dataset\n",
    "from sklearn.metrics import (\n",
    "    confusion_matrix, \n",
    "    ConfusionMatrixDisplay, \n",
    "    accuracy_score,\n",
    "    f1_score,\n",
    "    classification_report,\n",
    "    precision_score,\n",
    "    recall_score\n",
    ")\n",
    "from transformers import (\n",
    "    AutoTokenizer,\n",
    "    DataCollatorWithPadding,\n",
    "    AutoModelForSequenceClassification,\n",
    "    Trainer,\n",
    "    TrainerCallback\n",
    ")\n",
    "from transformers.training_args import TrainingArguments\n",
    "\n",
    "device = torch.device(\"cuda\" if torch.cuda.is_available() else \"cpu\")\n",
    "print(f\"Using {device}\")\n"
   ]
  },
  {
   "cell_type": "markdown",
   "metadata": {},
   "source": [
    "## Read data"
   ]
  },
  {
   "cell_type": "code",
   "execution_count": 2,
   "metadata": {},
   "outputs": [],
   "source": [
    "data_dir = \"../data\"\n",
    "train_data_path = os.path.join(data_dir, 'train_data_llava.json')\n",
    "test_data_path = os.path.join(data_dir, 'test_data_llava.json')\n",
    "models_dir = \"../models\"\n",
    "\n",
    "def generate_df_from_json(json_path):\n",
    "  with open(json_path) as f:\n",
    "    data: dict = json.load(f)\n",
    "    data_formated= {'caption': [], 'label': []}\n",
    "    for value in data.values():\n",
    "      data_formated['caption'].append(value['caption'])\n",
    "      data_formated['label'].append(value['label'])\n",
    "  \n",
    "  df = pd.DataFrame.from_dict(data_formated)\n",
    "  return df\n",
    "\n",
    "id2label = {\n",
    "  0: 'Cultural_Religious',\n",
    "  1: 'Fauna_Flora',\n",
    "  2: 'Gastronomy',\n",
    "  3: 'Nature',\n",
    "  4: 'Sports',\n",
    "  5: 'Urban_Rural'\n",
    "}\n",
    "\n",
    "label2id = {\n",
    "  'Cultural_Religious': 0,\n",
    "  'Fauna_Flora': 1,\n",
    "  'Gastronomy': 2,\n",
    "  'Nature': 3,\n",
    "  'Sports': 4,\n",
    "  'Urban_Rural': 5\n",
    "}\n",
    "\n",
    "train_df = generate_df_from_json(train_data_path)\n",
    "test_df = generate_df_from_json(test_data_path)"
   ]
  },
  {
   "cell_type": "code",
   "execution_count": 3,
   "metadata": {},
   "outputs": [],
   "source": [
    "train_data = Dataset.from_pandas(train_df).train_test_split(test_size=0.15, seed=4999)\n",
    "test_data = Dataset.from_pandas(test_df)"
   ]
  },
  {
   "cell_type": "code",
   "execution_count": 4,
   "metadata": {},
   "outputs": [
    {
     "data": {
      "text/plain": [
       "([0, 1, 2, 3, 4, 5],\n",
       " [Text(0, 0, 'Cultural_Religious'),\n",
       "  Text(1, 0, 'Fauna_Flora'),\n",
       "  Text(2, 0, 'Gastronomy'),\n",
       "  Text(3, 0, 'Nature'),\n",
       "  Text(4, 0, 'Sports'),\n",
       "  Text(5, 0, 'Urban_Rural')])"
      ]
     },
     "execution_count": 4,
     "metadata": {},
     "output_type": "execute_result"
    },
    {
     "data": {
      "image/png": "[encoded data removed]",
      "text/plain": [
       "<Figure size 640x480 with 1 Axes>"
      ]
     },
     "metadata": {},
     "output_type": "display_data"
    }
   ],
   "source": [
    "label_count = train_df.groupby(by='label').count()\n",
    "label_count.columns = ['count']\n",
    "labels = [id2label[id] for id in label_count.index]\n",
    "sns.barplot(label_count, x=labels, y='count')\n",
    "plt.xticks(rotation=45)"
   ]
  },
  {
   "cell_type": "markdown",
   "metadata": {},
   "source": [
    "## Text classification"
   ]
  },
  {
   "cell_type": "code",
   "execution_count": 5,
   "metadata": {},
   "outputs": [],
   "source": [
    "#model_id = \"google-bert/bert-base-uncased\"\n",
    "model_id = \"distilbert/distilbert-base-uncased\"\n",
    "#model_id = \"FacebookAI/roberta-base\""
   ]
  },
  {
   "cell_type": "markdown",
   "metadata": {},
   "source": [
    "### Tokenize data"
   ]
  },
  {
   "cell_type": "code",
   "execution_count": 6,
   "metadata": {},
   "outputs": [
    {
     "data": {
      "application/vnd.jupyter.widget-view+json": {
       "model_id": "0e0e03b539814c158787cc2a2ad41e9e",
       "version_major": 2,
       "version_minor": 0
      },
      "text/plain": [
       "Map:   0%|          | 0/571 [00:00<?, ? examples/s]"
      ]
     },
     "metadata": {},
     "output_type": "display_data"
    },
    {
     "data": {
      "application/vnd.jupyter.widget-view+json": {
       "model_id": "db77532d48544e7d92533b2261dfe543",
       "version_major": 2,
       "version_minor": 0
      },
      "text/plain": [
       "Map:   0%|          | 0/101 [00:00<?, ? examples/s]"
      ]
     },
     "metadata": {},
     "output_type": "display_data"
    },
    {
     "data": {
      "application/vnd.jupyter.widget-view+json": {
       "model_id": "759c537dc0ee4b02a8d4872d36b05050",
       "version_major": 2,
       "version_minor": 0
      },
      "text/plain": [
       "Map:   0%|          | 0/288 [00:00<?, ? examples/s]"
      ]
     },
     "metadata": {},
     "output_type": "display_data"
    },
    {
     "name": "stdout",
     "output_type": "stream",
     "text": [
      "DatasetDict({\n",
      "    train: Dataset({\n",
      "        features: ['caption', 'label', 'input_ids', 'attention_mask'],\n",
      "        num_rows: 571\n",
      "    })\n",
      "    test: Dataset({\n",
      "        features: ['caption', 'label', 'input_ids', 'attention_mask'],\n",
      "        num_rows: 101\n",
      "    })\n",
      "})\n"
     ]
    }
   ],
   "source": [
    "tokenizer = AutoTokenizer.from_pretrained(model_id)\n",
    "\n",
    "def preprocess_function(examples):\n",
    "  return tokenizer(examples[\"caption\"], truncation=True)\n",
    "\n",
    "tokenized_train_data = train_data.map(preprocess_function, batched=True)\n",
    "tokenized_test_data = test_data.map(preprocess_function, batched=True)\n",
    "\n",
    "data_collator = DataCollatorWithPadding(tokenizer=tokenizer)\n",
    "print(tokenized_train_data)"
   ]
  },
  {
   "cell_type": "markdown",
   "metadata": {},
   "source": [
    "### Train model"
   ]
  },
  {
   "cell_type": "code",
   "execution_count": 6,
   "metadata": {},
   "outputs": [
    {
     "name": "stderr",
     "output_type": "stream",
     "text": [
      "Some weights of DistilBertForSequenceClassification were not initialized from the model checkpoint at distilbert/distilbert-base-uncased and are newly initialized: ['classifier.bias', 'classifier.weight', 'pre_classifier.bias', 'pre_classifier.weight']\n",
      "You should probably TRAIN this model on a down-stream task to be able to use it for predictions and inference.\n"
     ]
    },
    {
     "data": {
      "application/vnd.jupyter.widget-view+json": {
       "model_id": "301d190800b044a8be87db7784cc38e8",
       "version_major": 2,
       "version_minor": 0
      },
      "text/plain": [
       "  0%|          | 0/180 [00:00<?, ?it/s]"
      ]
     },
     "metadata": {},
     "output_type": "display_data"
    },
    {
     "data": {
      "application/vnd.jupyter.widget-view+json": {
       "model_id": "945bac4f43bb47099c360653064bd37c",
       "version_major": 2,
       "version_minor": 0
      },
      "text/plain": [
       "  0%|          | 0/36 [00:00<?, ?it/s]"
      ]
     },
     "metadata": {},
     "output_type": "display_data"
    },
    {
     "name": "stdout",
     "output_type": "stream",
     "text": [
      "{'train_loss': 1.2942354679107666, 'train_accuracy': 0.819614711033275, 'train_runtime': 2.5624, 'train_samples_per_second': 222.838, 'train_steps_per_second': 14.049, 'epoch': 1.0}\n"
     ]
    },
    {
     "data": {
      "application/vnd.jupyter.widget-view+json": {
       "model_id": "ea4fa91248e64e3aa8cfd0c95fefe0d7",
       "version_major": 2,
       "version_minor": 0
      },
      "text/plain": [
       "  0%|          | 0/7 [00:00<?, ?it/s]"
      ]
     },
     "metadata": {},
     "output_type": "display_data"
    },
    {
     "name": "stdout",
     "output_type": "stream",
     "text": [
      "{'eval_loss': 1.285083293914795, 'eval_accuracy': 0.8316831683168316, 'eval_runtime': 0.4754, 'eval_samples_per_second': 212.434, 'eval_steps_per_second': 14.723, 'epoch': 1.0}\n"
     ]
    },
    {
     "data": {
      "application/vnd.jupyter.widget-view+json": {
       "model_id": "96c1845ba0bf4f82b22c79ca418388ac",
       "version_major": 2,
       "version_minor": 0
      },
      "text/plain": [
       "  0%|          | 0/36 [00:00<?, ?it/s]"
      ]
     },
     "metadata": {},
     "output_type": "display_data"
    },
    {
     "name": "stdout",
     "output_type": "stream",
     "text": [
      "{'train_loss': 0.6576547622680664, 'train_accuracy': 0.9019264448336253, 'train_runtime': 2.5753, 'train_samples_per_second': 221.722, 'train_steps_per_second': 13.979, 'epoch': 2.0}\n"
     ]
    },
    {
     "data": {
      "application/vnd.jupyter.widget-view+json": {
       "model_id": "135b8b828dd74a4aa208d101df18882d",
       "version_major": 2,
       "version_minor": 0
      },
      "text/plain": [
       "  0%|          | 0/7 [00:00<?, ?it/s]"
      ]
     },
     "metadata": {},
     "output_type": "display_data"
    },
    {
     "name": "stdout",
     "output_type": "stream",
     "text": [
      "{'eval_loss': 0.6746252775192261, 'eval_accuracy': 0.8910891089108911, 'eval_runtime': 0.4791, 'eval_samples_per_second': 210.796, 'eval_steps_per_second': 14.61, 'epoch': 2.0}\n"
     ]
    },
    {
     "data": {
      "application/vnd.jupyter.widget-view+json": {
       "model_id": "1406bfa627544067a41d35979f42c3ac",
       "version_major": 2,
       "version_minor": 0
      },
      "text/plain": [
       "  0%|          | 0/36 [00:00<?, ?it/s]"
      ]
     },
     "metadata": {},
     "output_type": "display_data"
    },
    {
     "name": "stdout",
     "output_type": "stream",
     "text": [
      "{'train_loss': 0.376678466796875, 'train_accuracy': 0.9439579684763573, 'train_runtime': 2.5897, 'train_samples_per_second': 220.491, 'train_steps_per_second': 13.901, 'epoch': 3.0}\n"
     ]
    },
    {
     "data": {
      "application/vnd.jupyter.widget-view+json": {
       "model_id": "350484b7f07b49df8f93ed541d12a1db",
       "version_major": 2,
       "version_minor": 0
      },
      "text/plain": [
       "  0%|          | 0/7 [00:00<?, ?it/s]"
      ]
     },
     "metadata": {},
     "output_type": "display_data"
    },
    {
     "name": "stdout",
     "output_type": "stream",
     "text": [
      "{'eval_loss': 0.42432230710983276, 'eval_accuracy': 0.9207920792079208, 'eval_runtime': 0.4814, 'eval_samples_per_second': 209.824, 'eval_steps_per_second': 14.542, 'epoch': 3.0}\n"
     ]
    },
    {
     "data": {
      "application/vnd.jupyter.widget-view+json": {
       "model_id": "95ce7c0650c5429295c8cfbc7ab053e3",
       "version_major": 2,
       "version_minor": 0
      },
      "text/plain": [
       "  0%|          | 0/36 [00:00<?, ?it/s]"
      ]
     },
     "metadata": {},
     "output_type": "display_data"
    },
    {
     "name": "stdout",
     "output_type": "stream",
     "text": [
      "{'train_loss': 0.27485495805740356, 'train_accuracy': 0.9597197898423818, 'train_runtime': 2.592, 'train_samples_per_second': 220.296, 'train_steps_per_second': 13.889, 'epoch': 4.0}\n"
     ]
    },
    {
     "data": {
      "application/vnd.jupyter.widget-view+json": {
       "model_id": "675f074a15174b8e8d53ac63043d186e",
       "version_major": 2,
       "version_minor": 0
      },
      "text/plain": [
       "  0%|          | 0/7 [00:00<?, ?it/s]"
      ]
     },
     "metadata": {},
     "output_type": "display_data"
    },
    {
     "name": "stdout",
     "output_type": "stream",
     "text": [
      "{'eval_loss': 0.3409046530723572, 'eval_accuracy': 0.9306930693069307, 'eval_runtime': 0.4839, 'eval_samples_per_second': 208.704, 'eval_steps_per_second': 14.465, 'epoch': 4.0}\n"
     ]
    },
    {
     "data": {
      "application/vnd.jupyter.widget-view+json": {
       "model_id": "0b9b4eae81fa4ea9ada6117578a02143",
       "version_major": 2,
       "version_minor": 0
      },
      "text/plain": [
       "  0%|          | 0/36 [00:00<?, ?it/s]"
      ]
     },
     "metadata": {},
     "output_type": "display_data"
    },
    {
     "name": "stdout",
     "output_type": "stream",
     "text": [
      "{'train_loss': 0.24283617734909058, 'train_accuracy': 0.9649737302977233, 'train_runtime': 2.6162, 'train_samples_per_second': 218.253, 'train_steps_per_second': 13.76, 'epoch': 5.0}\n"
     ]
    },
    {
     "data": {
      "application/vnd.jupyter.widget-view+json": {
       "model_id": "1da6433a7a374da19c428383e32b109b",
       "version_major": 2,
       "version_minor": 0
      },
      "text/plain": [
       "  0%|          | 0/7 [00:00<?, ?it/s]"
      ]
     },
     "metadata": {},
     "output_type": "display_data"
    },
    {
     "name": "stdout",
     "output_type": "stream",
     "text": [
      "{'eval_loss': 0.3195231854915619, 'eval_accuracy': 0.9306930693069307, 'eval_runtime': 0.491, 'eval_samples_per_second': 205.723, 'eval_steps_per_second': 14.258, 'epoch': 5.0}\n",
      "{'train_runtime': 58.9569, 'train_samples_per_second': 48.425, 'train_steps_per_second': 3.053, 'train_loss': 0.773082987467448, 'epoch': 5.0}\n"
     ]
    }
   ],
   "source": [
    "import copy\n",
    "\n",
    "accuracy = evaluate.load(\"accuracy\")\n",
    "\n",
    "def compute_metrics(eval_pred):\n",
    "    predictions, labels = eval_pred\n",
    "    predictions = np.argmax(predictions, axis=1)\n",
    "    return accuracy.compute(predictions=predictions, references=labels)\n",
    "\n",
    "model = AutoModelForSequenceClassification.from_pretrained(\n",
    "    model_id, num_labels=6, id2label=id2label, label2id=label2id\n",
    ")\n",
    "\n",
    "training_args = TrainingArguments(\n",
    "    output_dir=f\"{models_dir}/roberta\",\n",
    "    learning_rate=2e-5,\n",
    "    per_device_train_batch_size=16,\n",
    "    per_device_eval_batch_size=16,\n",
    "    num_train_epochs=5,\n",
    "    weight_decay=0.01,\n",
    "    eval_strategy=\"epoch\",\n",
    "    save_strategy=\"epoch\",\n",
    "    load_best_model_at_end=True,\n",
    "    push_to_hub=False,\n",
    ")\n",
    "\n",
    "class AccuracyHistory(TrainerCallback):\n",
    "    def __init__(self, trainer):\n",
    "        super().__init__()\n",
    "        self.eval_acc = []\n",
    "        self.train_acc = []\n",
    "        self._trainer = trainer\n",
    "\n",
    "    def on_epoch_end(self, args, state, control, **kwargs):\n",
    "        if control.should_evaluate:\n",
    "            control_copy = copy.deepcopy(control)\n",
    "            self._trainer.evaluate(eval_dataset=self._trainer.train_dataset, metric_key_prefix=\"train\")\n",
    "            return control_copy\n",
    "\n",
    "    def on_evaluate(self, args, state, control, metrics=None, **kwargs):\n",
    "        if metrics is not None:\n",
    "            if metrics.get('eval_accuracy'):\n",
    "                self.eval_acc.append(metrics[\"eval_accuracy\"])\n",
    "            if metrics.get('train_accuracy'):\n",
    "                self.train_acc.append(metrics['train_accuracy'])\n",
    "            \n",
    "trainer = Trainer(\n",
    "    model=model,\n",
    "    args=training_args,\n",
    "    train_dataset=tokenized_train_data[\"train\"],\n",
    "    eval_dataset=tokenized_train_data[\"test\"],\n",
    "    tokenizer=tokenizer,\n",
    "    data_collator=data_collator,\n",
    "    compute_metrics=compute_metrics,\n",
    "    #callbacks=[accuracy_history]\n",
    ")\n",
    "\n",
    "trainer.add_callback(AccuracyHistory(trainer))\n",
    "\n",
    "trainer.train()\n",
    "trainer.save_model(f\"{models_dir}/best_roberta_llava\")"
   ]
  },
  {
   "cell_type": "code",
   "execution_count": 7,
   "metadata": {},
   "outputs": [
    {
     "name": "stdout",
     "output_type": "stream",
     "text": [
      "Training fold 1/5...\n"
     ]
    },
    {
     "name": "stderr",
     "output_type": "stream",
     "text": [
      "Some weights of DistilBertForSequenceClassification were not initialized from the model checkpoint at distilbert/distilbert-base-uncased and are newly initialized: ['classifier.bias', 'classifier.weight', 'pre_classifier.bias', 'pre_classifier.weight']\n",
      "You should probably TRAIN this model on a down-stream task to be able to use it for predictions and inference.\n"
     ]
    },
    {
     "data": {
      "application/vnd.jupyter.widget-view+json": {
       "model_id": "ee6cc0cc893448918b7f8d2c47dfdec3",
       "version_major": 2,
       "version_minor": 0
      },
      "text/plain": [
       "  0%|          | 0/145 [00:00<?, ?it/s]"
      ]
     },
     "metadata": {},
     "output_type": "display_data"
    },
    {
     "data": {
      "application/vnd.jupyter.widget-view+json": {
       "model_id": "ba26271c6f3e4d3c9f0f2728fdad398e",
       "version_major": 2,
       "version_minor": 0
      },
      "text/plain": [
       "  0%|          | 0/8 [00:00<?, ?it/s]"
      ]
     },
     "metadata": {},
     "output_type": "display_data"
    },
    {
     "name": "stdout",
     "output_type": "stream",
     "text": [
      "{'eval_loss': 1.3207436800003052, 'eval_accuracy': 0.782608695652174, 'eval_precision': 0.7843497632971318, 'eval_recall': 0.7876705653021442, 'eval_runtime': 0.5214, 'eval_samples_per_second': 220.556, 'eval_steps_per_second': 15.343, 'epoch': 1.0}\n"
     ]
    },
    {
     "data": {
      "application/vnd.jupyter.widget-view+json": {
       "model_id": "6e51b15066d44aff8ec39f40f0c1baf0",
       "version_major": 2,
       "version_minor": 0
      },
      "text/plain": [
       "  0%|          | 0/8 [00:00<?, ?it/s]"
      ]
     },
     "metadata": {},
     "output_type": "display_data"
    },
    {
     "name": "stdout",
     "output_type": "stream",
     "text": [
      "{'eval_loss': 0.8143576979637146, 'eval_accuracy': 0.8260869565217391, 'eval_precision': 0.825759309340545, 'eval_recall': 0.8307017543859648, 'eval_runtime': 0.5059, 'eval_samples_per_second': 227.3, 'eval_steps_per_second': 15.812, 'epoch': 2.0}\n"
     ]
    },
    {
     "data": {
      "application/vnd.jupyter.widget-view+json": {
       "model_id": "177c5df4edda4fd69b4967a8ab3adf70",
       "version_major": 2,
       "version_minor": 0
      },
      "text/plain": [
       "  0%|          | 0/8 [00:00<?, ?it/s]"
      ]
     },
     "metadata": {},
     "output_type": "display_data"
    },
    {
     "name": "stdout",
     "output_type": "stream",
     "text": [
      "{'eval_loss': 0.5771674513816833, 'eval_accuracy': 0.8869565217391304, 'eval_precision': 0.8876357560568087, 'eval_recall': 0.8890350877192983, 'eval_runtime': 0.5177, 'eval_samples_per_second': 222.138, 'eval_steps_per_second': 15.453, 'epoch': 3.0}\n"
     ]
    },
    {
     "data": {
      "application/vnd.jupyter.widget-view+json": {
       "model_id": "00622583456d432f8d71c985ab20088b",
       "version_major": 2,
       "version_minor": 0
      },
      "text/plain": [
       "  0%|          | 0/8 [00:00<?, ?it/s]"
      ]
     },
     "metadata": {},
     "output_type": "display_data"
    },
    {
     "name": "stdout",
     "output_type": "stream",
     "text": [
      "{'eval_loss': 0.510855495929718, 'eval_accuracy': 0.8782608695652174, 'eval_precision': 0.8825953773322195, 'eval_recall': 0.880701754385965, 'eval_runtime': 0.5199, 'eval_samples_per_second': 221.176, 'eval_steps_per_second': 15.386, 'epoch': 4.0}\n"
     ]
    },
    {
     "data": {
      "application/vnd.jupyter.widget-view+json": {
       "model_id": "8aefeba9748c4dbcbc5f8b047f27ab8a",
       "version_major": 2,
       "version_minor": 0
      },
      "text/plain": [
       "  0%|          | 0/8 [00:00<?, ?it/s]"
      ]
     },
     "metadata": {},
     "output_type": "display_data"
    },
    {
     "name": "stdout",
     "output_type": "stream",
     "text": [
      "{'eval_loss': 0.4878282845020294, 'eval_accuracy': 0.8695652173913043, 'eval_precision': 0.8752348041821727, 'eval_recall': 0.8719298245614034, 'eval_runtime': 0.4793, 'eval_samples_per_second': 239.94, 'eval_steps_per_second': 16.691, 'epoch': 5.0}\n",
      "{'train_runtime': 36.2477, 'train_samples_per_second': 62.901, 'train_steps_per_second': 4.0, 'train_loss': 0.7990973110856681, 'epoch': 5.0}\n"
     ]
    },
    {
     "data": {
      "application/vnd.jupyter.widget-view+json": {
       "model_id": "10e36dcf2c5e4ebf9f424ba932516853",
       "version_major": 2,
       "version_minor": 0
      },
      "text/plain": [
       "  0%|          | 0/8 [00:00<?, ?it/s]"
      ]
     },
     "metadata": {},
     "output_type": "display_data"
    },
    {
     "name": "stderr",
     "output_type": "stream",
     "text": [
      "Some weights of DistilBertForSequenceClassification were not initialized from the model checkpoint at distilbert/distilbert-base-uncased and are newly initialized: ['classifier.bias', 'classifier.weight', 'pre_classifier.bias', 'pre_classifier.weight']\n",
      "You should probably TRAIN this model on a down-stream task to be able to use it for predictions and inference.\n"
     ]
    },
    {
     "name": "stdout",
     "output_type": "stream",
     "text": [
      "Fold 1 accuracy: 0.8696\n",
      "Fold 1 precision: 0.8752\n",
      "Fold 1 recall: 0.8719\n",
      "Training fold 2/5...\n"
     ]
    },
    {
     "data": {
      "application/vnd.jupyter.widget-view+json": {
       "model_id": "95cf29651a5548d799d53b02002fb5a3",
       "version_major": 2,
       "version_minor": 0
      },
      "text/plain": [
       "  0%|          | 0/145 [00:00<?, ?it/s]"
      ]
     },
     "metadata": {},
     "output_type": "display_data"
    },
    {
     "data": {
      "application/vnd.jupyter.widget-view+json": {
       "model_id": "2e2849037b1744388975418f6b8466c1",
       "version_major": 2,
       "version_minor": 0
      },
      "text/plain": [
       "  0%|          | 0/8 [00:00<?, ?it/s]"
      ]
     },
     "metadata": {},
     "output_type": "display_data"
    },
    {
     "name": "stdout",
     "output_type": "stream",
     "text": [
      "{'eval_loss': 1.3992230892181396, 'eval_accuracy': 0.7368421052631579, 'eval_precision': 0.7835046543870073, 'eval_recall': 0.7442982456140351, 'eval_runtime': 0.5326, 'eval_samples_per_second': 214.051, 'eval_steps_per_second': 15.021, 'epoch': 1.0}\n"
     ]
    },
    {
     "data": {
      "application/vnd.jupyter.widget-view+json": {
       "model_id": "cab67a0df50c446e9808a36a4d18c554",
       "version_major": 2,
       "version_minor": 0
      },
      "text/plain": [
       "  0%|          | 0/8 [00:00<?, ?it/s]"
      ]
     },
     "metadata": {},
     "output_type": "display_data"
    },
    {
     "name": "stdout",
     "output_type": "stream",
     "text": [
      "{'eval_loss': 0.8549952507019043, 'eval_accuracy': 0.8333333333333334, 'eval_precision': 0.8502821252821254, 'eval_recall': 0.8376218323586745, 'eval_runtime': 0.53, 'eval_samples_per_second': 215.111, 'eval_steps_per_second': 15.095, 'epoch': 2.0}\n"
     ]
    },
    {
     "data": {
      "application/vnd.jupyter.widget-view+json": {
       "model_id": "514f3659da4a4ea8b82fb19e975285dc",
       "version_major": 2,
       "version_minor": 0
      },
      "text/plain": [
       "  0%|          | 0/8 [00:00<?, ?it/s]"
      ]
     },
     "metadata": {},
     "output_type": "display_data"
    },
    {
     "name": "stdout",
     "output_type": "stream",
     "text": [
      "{'eval_loss': 0.5887761116027832, 'eval_accuracy': 0.868421052631579, 'eval_precision': 0.8697404743743417, 'eval_recall': 0.8713937621832358, 'eval_runtime': 0.6163, 'eval_samples_per_second': 184.97, 'eval_steps_per_second': 12.98, 'epoch': 3.0}\n"
     ]
    },
    {
     "data": {
      "application/vnd.jupyter.widget-view+json": {
       "model_id": "5b6369058cdb463aaa6db79b29c1a5ad",
       "version_major": 2,
       "version_minor": 0
      },
      "text/plain": [
       "  0%|          | 0/8 [00:00<?, ?it/s]"
      ]
     },
     "metadata": {},
     "output_type": "display_data"
    },
    {
     "name": "stdout",
     "output_type": "stream",
     "text": [
      "{'eval_loss': 0.4666198790073395, 'eval_accuracy': 0.9035087719298246, 'eval_precision': 0.9053220171641225, 'eval_recall': 0.9064814814814816, 'eval_runtime': 0.6124, 'eval_samples_per_second': 186.157, 'eval_steps_per_second': 13.064, 'epoch': 4.0}\n"
     ]
    },
    {
     "data": {
      "application/vnd.jupyter.widget-view+json": {
       "model_id": "1874d1938fc54daea6e5df92812a14b0",
       "version_major": 2,
       "version_minor": 0
      },
      "text/plain": [
       "  0%|          | 0/8 [00:00<?, ?it/s]"
      ]
     },
     "metadata": {},
     "output_type": "display_data"
    },
    {
     "name": "stdout",
     "output_type": "stream",
     "text": [
      "{'eval_loss': 0.43567633628845215, 'eval_accuracy': 0.9035087719298246, 'eval_precision': 0.9053220171641225, 'eval_recall': 0.9064814814814816, 'eval_runtime': 0.6393, 'eval_samples_per_second': 178.31, 'eval_steps_per_second': 12.513, 'epoch': 5.0}\n",
      "{'train_runtime': 45.6518, 'train_samples_per_second': 50.053, 'train_steps_per_second': 3.176, 'train_loss': 0.8677348169787177, 'epoch': 5.0}\n"
     ]
    },
    {
     "data": {
      "application/vnd.jupyter.widget-view+json": {
       "model_id": "43f2358153a544f1ab006a7a8e336f73",
       "version_major": 2,
       "version_minor": 0
      },
      "text/plain": [
       "  0%|          | 0/8 [00:00<?, ?it/s]"
      ]
     },
     "metadata": {},
     "output_type": "display_data"
    },
    {
     "name": "stdout",
     "output_type": "stream",
     "text": [
      "Fold 2 accuracy: 0.9035\n",
      "Fold 2 precision: 0.9053\n",
      "Fold 2 recall: 0.9065\n",
      "Training fold 3/5...\n"
     ]
    },
    {
     "name": "stderr",
     "output_type": "stream",
     "text": [
      "Some weights of DistilBertForSequenceClassification were not initialized from the model checkpoint at distilbert/distilbert-base-uncased and are newly initialized: ['classifier.bias', 'classifier.weight', 'pre_classifier.bias', 'pre_classifier.weight']\n",
      "You should probably TRAIN this model on a down-stream task to be able to use it for predictions and inference.\n"
     ]
    },
    {
     "data": {
      "application/vnd.jupyter.widget-view+json": {
       "model_id": "d2885bc588ad420d840dea3cb4b281e0",
       "version_major": 2,
       "version_minor": 0
      },
      "text/plain": [
       "  0%|          | 0/145 [00:00<?, ?it/s]"
      ]
     },
     "metadata": {},
     "output_type": "display_data"
    },
    {
     "data": {
      "application/vnd.jupyter.widget-view+json": {
       "model_id": "cf664485282b4ca98609f16c3ae8a9b2",
       "version_major": 2,
       "version_minor": 0
      },
      "text/plain": [
       "  0%|          | 0/8 [00:00<?, ?it/s]"
      ]
     },
     "metadata": {},
     "output_type": "display_data"
    },
    {
     "name": "stdout",
     "output_type": "stream",
     "text": [
      "{'eval_loss': 1.4217922687530518, 'eval_accuracy': 0.868421052631579, 'eval_precision': 0.8832456140350877, 'eval_recall': 0.8682261208576998, 'eval_runtime': 0.6564, 'eval_samples_per_second': 173.686, 'eval_steps_per_second': 12.189, 'epoch': 1.0}\n"
     ]
    },
    {
     "data": {
      "application/vnd.jupyter.widget-view+json": {
       "model_id": "8e86ed7e11c34ea5b3af27821390c477",
       "version_major": 2,
       "version_minor": 0
      },
      "text/plain": [
       "  0%|          | 0/8 [00:00<?, ?it/s]"
      ]
     },
     "metadata": {},
     "output_type": "display_data"
    },
    {
     "name": "stdout",
     "output_type": "stream",
     "text": [
      "{'eval_loss': 0.8266798257827759, 'eval_accuracy': 0.9473684210526315, 'eval_precision': 0.9497198879551821, 'eval_recall': 0.948635477582846, 'eval_runtime': 0.6538, 'eval_samples_per_second': 174.36, 'eval_steps_per_second': 12.236, 'epoch': 2.0}\n"
     ]
    },
    {
     "data": {
      "application/vnd.jupyter.widget-view+json": {
       "model_id": "c431f4c54ac14a8c808c822030992a22",
       "version_major": 2,
       "version_minor": 0
      },
      "text/plain": [
       "  0%|          | 0/8 [00:00<?, ?it/s]"
      ]
     },
     "metadata": {},
     "output_type": "display_data"
    },
    {
     "name": "stdout",
     "output_type": "stream",
     "text": [
      "{'eval_loss': 0.511633038520813, 'eval_accuracy': 0.956140350877193, 'eval_precision': 0.9568627450980393, 'eval_recall': 0.9578947368421052, 'eval_runtime': 0.5719, 'eval_samples_per_second': 199.339, 'eval_steps_per_second': 13.989, 'epoch': 3.0}\n"
     ]
    },
    {
     "data": {
      "application/vnd.jupyter.widget-view+json": {
       "model_id": "2e917ca5220d41f29acf3dda80fed2ef",
       "version_major": 2,
       "version_minor": 0
      },
      "text/plain": [
       "  0%|          | 0/8 [00:00<?, ?it/s]"
      ]
     },
     "metadata": {},
     "output_type": "display_data"
    },
    {
     "name": "stdout",
     "output_type": "stream",
     "text": [
      "{'eval_loss': 0.3989194333553314, 'eval_accuracy': 0.9649122807017544, 'eval_precision': 0.9657894736842105, 'eval_recall': 0.9657894736842105, 'eval_runtime': 0.571, 'eval_samples_per_second': 199.646, 'eval_steps_per_second': 14.01, 'epoch': 4.0}\n"
     ]
    },
    {
     "data": {
      "application/vnd.jupyter.widget-view+json": {
       "model_id": "f3c63da0aefa4a2fb280f303346aecdf",
       "version_major": 2,
       "version_minor": 0
      },
      "text/plain": [
       "  0%|          | 0/8 [00:00<?, ?it/s]"
      ]
     },
     "metadata": {},
     "output_type": "display_data"
    },
    {
     "name": "stdout",
     "output_type": "stream",
     "text": [
      "{'eval_loss': 0.355111300945282, 'eval_accuracy': 0.9649122807017544, 'eval_precision': 0.9657894736842106, 'eval_recall': 0.9657894736842106, 'eval_runtime': 0.5356, 'eval_samples_per_second': 212.852, 'eval_steps_per_second': 14.937, 'epoch': 5.0}\n",
      "{'train_runtime': 41.6588, 'train_samples_per_second': 54.85, 'train_steps_per_second': 3.481, 'train_loss': 0.8976352033943965, 'epoch': 5.0}\n"
     ]
    },
    {
     "data": {
      "application/vnd.jupyter.widget-view+json": {
       "model_id": "59c9cebb662c4a4585705c740a3c0232",
       "version_major": 2,
       "version_minor": 0
      },
      "text/plain": [
       "  0%|          | 0/8 [00:00<?, ?it/s]"
      ]
     },
     "metadata": {},
     "output_type": "display_data"
    },
    {
     "name": "stdout",
     "output_type": "stream",
     "text": [
      "Fold 3 accuracy: 0.9649\n",
      "Fold 3 precision: 0.9658\n",
      "Fold 3 recall: 0.9658\n",
      "Training fold 4/5...\n"
     ]
    },
    {
     "name": "stderr",
     "output_type": "stream",
     "text": [
      "Some weights of DistilBertForSequenceClassification were not initialized from the model checkpoint at distilbert/distilbert-base-uncased and are newly initialized: ['classifier.bias', 'classifier.weight', 'pre_classifier.bias', 'pre_classifier.weight']\n",
      "You should probably TRAIN this model on a down-stream task to be able to use it for predictions and inference.\n"
     ]
    },
    {
     "data": {
      "application/vnd.jupyter.widget-view+json": {
       "model_id": "6c2da3e022ac4f3185ebed4eef03bda7",
       "version_major": 2,
       "version_minor": 0
      },
      "text/plain": [
       "  0%|          | 0/145 [00:00<?, ?it/s]"
      ]
     },
     "metadata": {},
     "output_type": "display_data"
    },
    {
     "data": {
      "application/vnd.jupyter.widget-view+json": {
       "model_id": "1e51555a116946e48e243970ee23d785",
       "version_major": 2,
       "version_minor": 0
      },
      "text/plain": [
       "  0%|          | 0/8 [00:00<?, ?it/s]"
      ]
     },
     "metadata": {},
     "output_type": "display_data"
    },
    {
     "name": "stdout",
     "output_type": "stream",
     "text": [
      "{'eval_loss': 1.3493728637695312, 'eval_accuracy': 0.8070175438596491, 'eval_precision': 0.8226054266100035, 'eval_recall': 0.8062865497076023, 'eval_runtime': 0.5495, 'eval_samples_per_second': 207.444, 'eval_steps_per_second': 14.557, 'epoch': 1.0}\n"
     ]
    },
    {
     "data": {
      "application/vnd.jupyter.widget-view+json": {
       "model_id": "13d88f217b4e419a9c5985ccd6637bee",
       "version_major": 2,
       "version_minor": 0
      },
      "text/plain": [
       "  0%|          | 0/8 [00:00<?, ?it/s]"
      ]
     },
     "metadata": {},
     "output_type": "display_data"
    },
    {
     "name": "stdout",
     "output_type": "stream",
     "text": [
      "{'eval_loss': 0.8377189040184021, 'eval_accuracy': 0.8157894736842105, 'eval_precision': 0.8371147542974168, 'eval_recall': 0.8200779727095516, 'eval_runtime': 0.5509, 'eval_samples_per_second': 206.924, 'eval_steps_per_second': 14.521, 'epoch': 2.0}\n"
     ]
    },
    {
     "data": {
      "application/vnd.jupyter.widget-view+json": {
       "model_id": "02123d49358c43099ece15a89315eb65",
       "version_major": 2,
       "version_minor": 0
      },
      "text/plain": [
       "  0%|          | 0/8 [00:00<?, ?it/s]"
      ]
     },
     "metadata": {},
     "output_type": "display_data"
    },
    {
     "name": "stdout",
     "output_type": "stream",
     "text": [
      "{'eval_loss': 0.5713788866996765, 'eval_accuracy': 0.8508771929824561, 'eval_precision': 0.8604678362573099, 'eval_recall': 0.8552631578947368, 'eval_runtime': 0.5496, 'eval_samples_per_second': 207.424, 'eval_steps_per_second': 14.556, 'epoch': 3.0}\n"
     ]
    },
    {
     "data": {
      "application/vnd.jupyter.widget-view+json": {
       "model_id": "40613c6546ac4a2680e04761696cbcee",
       "version_major": 2,
       "version_minor": 0
      },
      "text/plain": [
       "  0%|          | 0/8 [00:00<?, ?it/s]"
      ]
     },
     "metadata": {},
     "output_type": "display_data"
    },
    {
     "name": "stdout",
     "output_type": "stream",
     "text": [
      "{'eval_loss': 0.45125719904899597, 'eval_accuracy': 0.9035087719298246, 'eval_precision': 0.9036377708978328, 'eval_recall': 0.9048245614035088, 'eval_runtime': 0.5472, 'eval_samples_per_second': 208.338, 'eval_steps_per_second': 14.62, 'epoch': 4.0}\n"
     ]
    },
    {
     "data": {
      "application/vnd.jupyter.widget-view+json": {
       "model_id": "7bede2153ca94e2d835397f2adaa4051",
       "version_major": 2,
       "version_minor": 0
      },
      "text/plain": [
       "  0%|          | 0/8 [00:00<?, ?it/s]"
      ]
     },
     "metadata": {},
     "output_type": "display_data"
    },
    {
     "name": "stdout",
     "output_type": "stream",
     "text": [
      "{'eval_loss': 0.4210287630558014, 'eval_accuracy': 0.9122807017543859, 'eval_precision': 0.9119711042311661, 'eval_recall': 0.9135964912280702, 'eval_runtime': 0.5108, 'eval_samples_per_second': 223.167, 'eval_steps_per_second': 15.661, 'epoch': 5.0}\n",
      "{'train_runtime': 36.8264, 'train_samples_per_second': 62.048, 'train_steps_per_second': 3.937, 'train_loss': 0.8329735591493804, 'epoch': 5.0}\n"
     ]
    },
    {
     "data": {
      "application/vnd.jupyter.widget-view+json": {
       "model_id": "b3eff75e5c384f21a027cb9d80cfd4db",
       "version_major": 2,
       "version_minor": 0
      },
      "text/plain": [
       "  0%|          | 0/8 [00:00<?, ?it/s]"
      ]
     },
     "metadata": {},
     "output_type": "display_data"
    },
    {
     "name": "stdout",
     "output_type": "stream",
     "text": [
      "Fold 4 accuracy: 0.9123\n",
      "Fold 4 precision: 0.9120\n",
      "Fold 4 recall: 0.9136\n",
      "Training fold 5/5...\n"
     ]
    },
    {
     "name": "stderr",
     "output_type": "stream",
     "text": [
      "Some weights of DistilBertForSequenceClassification were not initialized from the model checkpoint at distilbert/distilbert-base-uncased and are newly initialized: ['classifier.bias', 'classifier.weight', 'pre_classifier.bias', 'pre_classifier.weight']\n",
      "You should probably TRAIN this model on a down-stream task to be able to use it for predictions and inference.\n"
     ]
    },
    {
     "data": {
      "application/vnd.jupyter.widget-view+json": {
       "model_id": "a8c29ba68f444c2a972f28c284332757",
       "version_major": 2,
       "version_minor": 0
      },
      "text/plain": [
       "  0%|          | 0/145 [00:00<?, ?it/s]"
      ]
     },
     "metadata": {},
     "output_type": "display_data"
    },
    {
     "data": {
      "application/vnd.jupyter.widget-view+json": {
       "model_id": "ef385f1aaadd45fdb2f793d28c1889e5",
       "version_major": 2,
       "version_minor": 0
      },
      "text/plain": [
       "  0%|          | 0/8 [00:00<?, ?it/s]"
      ]
     },
     "metadata": {},
     "output_type": "display_data"
    },
    {
     "name": "stdout",
     "output_type": "stream",
     "text": [
      "{'eval_loss': 1.3905930519104004, 'eval_accuracy': 0.7894736842105263, 'eval_precision': 0.8281259802998933, 'eval_recall': 0.7896198830409357, 'eval_runtime': 0.5616, 'eval_samples_per_second': 203.0, 'eval_steps_per_second': 14.246, 'epoch': 1.0}\n"
     ]
    },
    {
     "data": {
      "application/vnd.jupyter.widget-view+json": {
       "model_id": "9d333b6ad89e4d5ca8a39f427412f4f2",
       "version_major": 2,
       "version_minor": 0
      },
      "text/plain": [
       "  0%|          | 0/8 [00:00<?, ?it/s]"
      ]
     },
     "metadata": {},
     "output_type": "display_data"
    },
    {
     "name": "stdout",
     "output_type": "stream",
     "text": [
      "{'eval_loss': 0.8425024747848511, 'eval_accuracy': 0.9035087719298246, 'eval_precision': 0.9213997113997113, 'eval_recall': 0.9060428849902533, 'eval_runtime': 0.5618, 'eval_samples_per_second': 202.911, 'eval_steps_per_second': 14.239, 'epoch': 2.0}\n"
     ]
    },
    {
     "data": {
      "application/vnd.jupyter.widget-view+json": {
       "model_id": "9a492d720516464ebbafd9bfc7f5300d",
       "version_major": 2,
       "version_minor": 0
      },
      "text/plain": [
       "  0%|          | 0/8 [00:00<?, ?it/s]"
      ]
     },
     "metadata": {},
     "output_type": "display_data"
    },
    {
     "name": "stdout",
     "output_type": "stream",
     "text": [
      "{'eval_loss': 0.5622433423995972, 'eval_accuracy': 0.9385964912280702, 'eval_precision': 0.9462121212121213, 'eval_recall': 0.9393762183235866, 'eval_runtime': 0.5756, 'eval_samples_per_second': 198.066, 'eval_steps_per_second': 13.899, 'epoch': 3.0}\n"
     ]
    },
    {
     "data": {
      "application/vnd.jupyter.widget-view+json": {
       "model_id": "eea7f1e7c8a3406fbe44ab758fb03792",
       "version_major": 2,
       "version_minor": 0
      },
      "text/plain": [
       "  0%|          | 0/8 [00:00<?, ?it/s]"
      ]
     },
     "metadata": {},
     "output_type": "display_data"
    },
    {
     "name": "stdout",
     "output_type": "stream",
     "text": [
      "{'eval_loss': 0.4476580321788788, 'eval_accuracy': 0.9385964912280702, 'eval_precision': 0.9427248677248677, 'eval_recall': 0.9389376218323585, 'eval_runtime': 0.5665, 'eval_samples_per_second': 201.224, 'eval_steps_per_second': 14.121, 'epoch': 4.0}\n"
     ]
    },
    {
     "data": {
      "application/vnd.jupyter.widget-view+json": {
       "model_id": "f1717b2ad71f4378956d236727553d2a",
       "version_major": 2,
       "version_minor": 0
      },
      "text/plain": [
       "  0%|          | 0/8 [00:00<?, ?it/s]"
      ]
     },
     "metadata": {},
     "output_type": "display_data"
    },
    {
     "name": "stdout",
     "output_type": "stream",
     "text": [
      "{'eval_loss': 0.40977391600608826, 'eval_accuracy': 0.9473684210526315, 'eval_precision': 0.9503550543024227, 'eval_recall': 0.9472709551656919, 'eval_runtime': 0.5227, 'eval_samples_per_second': 218.088, 'eval_steps_per_second': 15.304, 'epoch': 5.0}\n",
      "{'train_runtime': 37.007, 'train_samples_per_second': 61.745, 'train_steps_per_second': 3.918, 'train_loss': 0.8733556813207166, 'epoch': 5.0}\n"
     ]
    },
    {
     "data": {
      "application/vnd.jupyter.widget-view+json": {
       "model_id": "69cd247aa6d64ca9a082005c85d074cc",
       "version_major": 2,
       "version_minor": 0
      },
      "text/plain": [
       "  0%|          | 0/8 [00:00<?, ?it/s]"
      ]
     },
     "metadata": {},
     "output_type": "display_data"
    },
    {
     "name": "stdout",
     "output_type": "stream",
     "text": [
      "Fold 5 accuracy: 0.9474\n",
      "Fold 5 precision: 0.9504\n",
      "Fold 5 recall: 0.9473\n",
      "\n",
      "Mean accuracy across 5 folds: 0.9195\n",
      "Mean precision across 5 folds: 0.9217\n",
      "Mean recall across 5 folds: 0.9210\n"
     ]
    }
   ],
   "source": [
    "from sklearn.model_selection import StratifiedKFold\n",
    "import numpy as np\n",
    "import copy\n",
    "import evaluate\n",
    "\n",
    "# Load accuracy, precision, and recall metrics\n",
    "accuracy = evaluate.load(\"accuracy\")\n",
    "precision_metric = evaluate.load(\"precision\")\n",
    "recall_metric = evaluate.load(\"recall\")\n",
    "\n",
    "# Function to compute evaluation metrics\n",
    "def compute_metrics(eval_pred):\n",
    "    predictions, labels = eval_pred\n",
    "    predictions = np.argmax(predictions, axis=1)\n",
    "    \n",
    "    # Compute metrics\n",
    "    accuracy_result = accuracy.compute(predictions=predictions, references=labels)\n",
    "    precision_result = precision_metric.compute(predictions=predictions, references=labels, average='macro')\n",
    "    recall_result = recall_metric.compute(predictions=predictions, references=labels, average='macro')\n",
    "    \n",
    "    return {\n",
    "        'accuracy': accuracy_result['accuracy'],\n",
    "        'precision': precision_result['precision'],\n",
    "        'recall': recall_result['recall']\n",
    "    }\n",
    "\n",
    "# Define the number of folds\n",
    "n_splits = 5  # K-Fold with 5 splits\n",
    "\n",
    "# Initialize K-Fold cross-validator\n",
    "kf = StratifiedKFold(n_splits=n_splits, shuffle=True, random_state=42)\n",
    "\n",
    "# Tokenized dataset (replace with your actual dataset)\n",
    "train_dataset = tokenized_train_data[\"train\"]\n",
    "train_labels = train_dataset['label']  # Extract the labels for stratification\n",
    "train_dataset_size = len(train_dataset)\n",
    "\n",
    "# Arrays to store results for each fold\n",
    "fold_accuracies = []\n",
    "fold_precisions = []\n",
    "fold_recalls = []\n",
    "\n",
    "# Stratified K-Fold loop\n",
    "for fold, (train_idx, val_idx) in enumerate(kf.split(train_dataset, train_labels)):\n",
    "    print(f\"Training fold {fold + 1}/{n_splits}...\")\n",
    "    \n",
    "    # Create train and validation sets for this fold\n",
    "    train_subset = train_dataset.select(train_idx.tolist())\n",
    "    val_subset = train_dataset.select(val_idx.tolist())\n",
    "\n",
    "    # Initialize model for the current fold\n",
    "    model = AutoModelForSequenceClassification.from_pretrained(\n",
    "        model_id, num_labels=6, id2label=id2label, label2id=label2id\n",
    "    )\n",
    "\n",
    "    # Define training arguments for the current fold\n",
    "    training_args = TrainingArguments(\n",
    "        output_dir=f\"{models_dir}/roberta-fold-{fold + 1}\",\n",
    "        learning_rate=2e-5,\n",
    "        per_device_train_batch_size=16,\n",
    "        per_device_eval_batch_size=16,\n",
    "        num_train_epochs=5,\n",
    "        weight_decay=0.01,\n",
    "        eval_strategy=\"epoch\",\n",
    "        save_strategy=\"epoch\",\n",
    "        load_best_model_at_end=True,\n",
    "        push_to_hub=False,\n",
    "    )\n",
    "\n",
    "    # Initialize Trainer for this fold\n",
    "    trainer = Trainer(\n",
    "        model=model,\n",
    "        args=training_args,\n",
    "        train_dataset=train_subset,\n",
    "        eval_dataset=val_subset,\n",
    "        tokenizer=tokenizer,\n",
    "        data_collator=data_collator,\n",
    "        compute_metrics=compute_metrics,\n",
    "    )\n",
    "\n",
    "    # Add the AccuracyHistory callback\n",
    "    # trainer.add_callback(AccuracyHistory(trainer))\n",
    "\n",
    "    # Train the model\n",
    "    trainer.train()\n",
    "\n",
    "    # Evaluate the model on the validation subset\n",
    "    eval_results = trainer.evaluate(eval_dataset=val_subset)\n",
    "    \n",
    "    # Store the metrics for this fold\n",
    "    fold_accuracies.append(eval_results['eval_accuracy'])\n",
    "    fold_precisions.append(eval_results['eval_precision'])\n",
    "    fold_recalls.append(eval_results['eval_recall'])\n",
    "    \n",
    "    print(f\"Fold {fold + 1} accuracy: {eval_results['eval_accuracy']:.4f}\")\n",
    "    print(f\"Fold {fold + 1} precision: {eval_results['eval_precision']:.4f}\")\n",
    "    print(f\"Fold {fold + 1} recall: {eval_results['eval_recall']:.4f}\")\n",
    "\n",
    "# Compute the mean accuracy, precision, and recall across all folds\n",
    "mean_accuracy = np.mean(fold_accuracies)\n",
    "mean_precision = np.mean(fold_precisions)\n",
    "mean_recall = np.mean(fold_recalls)\n",
    "\n",
    "print(f\"\\nMean accuracy across {n_splits} folds: {mean_accuracy:.4f}\")\n",
    "print(f\"Mean precision across {n_splits} folds: {mean_precision:.4f}\")\n",
    "print(f\"Mean recall across {n_splits} folds: {mean_recall:.4f}\")\n"
   ]
  },
  {
   "cell_type": "code",
   "execution_count": 7,
   "metadata": {},
   "outputs": [],
   "source": [
    "accuracy_history = trainer.pop_callback(AccuracyHistory)"
   ]
  },
  {
   "cell_type": "code",
   "execution_count": 8,
   "metadata": {},
   "outputs": [
    {
     "data": {
      "image/png": "[encoded data removed]",
      "text/plain": [
       "<Figure size 1000x500 with 1 Axes>"
      ]
     },
     "metadata": {},
     "output_type": "display_data"
    }
   ],
   "source": [
    "# Plot the train and test accuracy evolution\n",
    "plt.figure(figsize=(10, 5))\n",
    "plt.plot(accuracy_history.eval_acc, label='Eval Accuracy')\n",
    "plt.plot(accuracy_history.train_acc, label='Train Accuracy')\n",
    "plt.xlabel('Epoch')\n",
    "plt.ylabel('Accuracy')\n",
    "plt.title('Accuracy Evolution')\n",
    "plt.legend()\n",
    "plt.show()"
   ]
  },
  {
   "cell_type": "code",
   "execution_count": 9,
   "metadata": {},
   "outputs": [
    {
     "data": {
      "application/vnd.jupyter.widget-view+json": {
       "model_id": "d2987707e5d549e9a5510955dd460b29",
       "version_major": 2,
       "version_minor": 0
      },
      "text/plain": [
       "  0%|          | 0/18 [00:00<?, ?it/s]"
      ]
     },
     "metadata": {},
     "output_type": "display_data"
    }
   ],
   "source": [
    "\n",
    "# After training, evaluate the model on the test set and compute the confusion matrix\n",
    "predictions, labels, _ = trainer.predict(tokenized_test_data)\n",
    "predictions = np.argmax(predictions, axis=1)\n",
    "\n",
    "# Compute the confusion matrix\n",
    "cm = confusion_matrix(labels, predictions, labels=list(label2id.values()))\n",
    "disp = ConfusionMatrixDisplay(confusion_matrix=cm, display_labels=list(label2id.keys()))"
   ]
  },
  {
   "cell_type": "code",
   "execution_count": 10,
   "metadata": {},
   "outputs": [
    {
     "data": {
      "image/png": "[encoded data removed]",
      "text/plain": [
       "<Figure size 640x480 with 2 Axes>"
      ]
     },
     "metadata": {},
     "output_type": "display_data"
    }
   ],
   "source": [
    "\n",
    "# Plot the confusion matrix\n",
    "disp.plot(cmap=plt.cm.Blues)\n",
    "plt.title('Confusion Matrix')\n",
    "plt.xticks(rotation=90)\n",
    "plt.show()"
   ]
  },
  {
   "cell_type": "code",
   "execution_count": 11,
   "metadata": {},
   "outputs": [
    {
     "name": "stdout",
     "output_type": "stream",
     "text": [
      "F1: 0.9332326092561489\n",
      "Accuracy: 0.9340277777777778\n",
      "Precision: 0.9333794638217091\n",
      "Recall: 0.9340277777777778\n",
      "-------- Report --------\n",
      "Class\tPrecission\tRecall\n",
      "Cultural_Religious\tFauna_Flora\tGastronomy\tNature\tSports\tUrban_Rural\n",
      "87.5\t95.83\t100.0\t91.67\t100.0\t85.42\n"
     ]
    }
   ],
   "source": [
    "acc = accuracy_score(labels, predictions)\n",
    "f1 = f1_score(labels, predictions, average='macro')\n",
    "precision = precision_score(labels, predictions, average='macro')\n",
    "recall = recall_score(labels, predictions, average='macro')\n",
    "report = classification_report(labels, predictions, output_dict=True)\n",
    "\n",
    "print(f\"F1: {f1}\")\n",
    "print(f\"Accuracy: {acc}\")\n",
    "print(f\"Precision: {precision}\")\n",
    "print(f\"Recall: {recall}\")\n",
    "print(f\"-------- Report --------\")\n",
    "print(\"Class\\tPrecission\\tRecall\")\n",
    "cm = cm.astype('float') / cm.sum(axis=1)[:, np.newaxis]\n",
    "classes = []\n",
    "class_accuracy = []\n",
    "for old_key, new_key in id2label.items():\n",
    "    classes.append(new_key)\n",
    "    class_accuracy.append(str(round(cm.diagonal()[old_key]*100, 2)))\n",
    "print('\\t'.join(classes))\n",
    "print('\\t'.join(class_accuracy))\n",
    "# print(cm.diagonal())"
   ]
  },
  {
   "cell_type": "code",
   "execution_count": null,
   "metadata": {},
   "outputs": [],
   "source": []
  }
 ],
 "metadata": {
  "kernelspec": {
   "display_name": "venv",
   "language": "python",
   "name": "python3"
  },
  "language_info": {
   "codemirror_mode": {
    "name": "ipython",
    "version": 3
   },
   "file_extension": ".py",
   "mimetype": "text/x-python",
   "name": "python",
   "nbconvert_exporter": "python",
   "pygments_lexer": "ipython3",
   "version": "3.12.6"
  }
 },
 "nbformat": 4,
 "nbformat_minor": 2
}
