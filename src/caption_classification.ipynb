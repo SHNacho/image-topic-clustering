{
 "cells": [
  {
   "cell_type": "code",
   "execution_count": 1,
   "metadata": {},
   "outputs": [
    {
     "name": "stdout",
     "output_type": "stream",
     "text": [
      "Using cuda\n"
     ]
    }
   ],
   "source": [
    "import evaluate\n",
    "import json\n",
    "import matplotlib.pyplot as plt\n",
    "import numpy as np\n",
    "import pandas as pd\n",
    "import torch\n",
    "\n",
    "from datasets import Dataset\n",
    "from sklearn.metrics import confusion_matrix, ConfusionMatrixDisplay\n",
    "from transformers import (\n",
    "    AutoTokenizer,\n",
    "    DataCollatorWithPadding,\n",
    "    AutoModelForSequenceClassification,\n",
    "    Trainer,\n",
    "    TrainingArguments,\n",
    "    TrainerCallback\n",
    ")\n",
    "\n",
    "device = torch.device(\"cuda\" if torch.cuda.is_available() else \"cpu\")\n",
    "print(f\"Using {device}\")\n"
   ]
  },
  {
   "cell_type": "markdown",
   "metadata": {},
   "source": [
    "## Read data"
   ]
  },
  {
   "cell_type": "code",
   "execution_count": 3,
   "metadata": {},
   "outputs": [
    {
     "data": {
      "text/plain": [
       "DatasetDict({\n",
       "    train: Dataset({\n",
       "        features: ['caption', 'label', '__index_level_0__'],\n",
       "        num_rows: 492\n",
       "    })\n",
       "    test: Dataset({\n",
       "        features: ['caption', 'label', '__index_level_0__'],\n",
       "        num_rows: 87\n",
       "    })\n",
       "})"
      ]
     },
     "execution_count": 3,
     "metadata": {},
     "output_type": "execute_result"
    }
   ],
   "source": [
    "data_dir = \"../data\"\n",
    "result_dir = \"../results\"\n",
    "models_dir = \"../models\"\n",
    "image_dir = f\"{data_dir}/Images\"\n",
    "\n",
    "def read_llava_captions(captions_path: str, common_str: str):\n",
    "  result = dict()\n",
    "  with open(captions_path, 'r') as f:\n",
    "    captions = json.load(f)\n",
    "\n",
    "  for key, caption in captions.items():\n",
    "    new_key = int(key.replace('.jpg', ''))\n",
    "    new_caption = caption.replace(common_str, '')\n",
    "    result[new_key] = new_caption\n",
    "  return result\n",
    "\n",
    "# read captoins\n",
    "captions = read_llava_captions(\n",
    "  f\"{result_dir}/llava_captions.json\", \n",
    "  #common_str=\"ER:  \\nGive me a short description of the image in one sentence? ASSISTANT: \"\n",
    "  common_str=\"ER:  \\nWhat is shown in this image? ASSISTANT: \"\n",
    ")\n",
    "df_captions = pd.DataFrame.from_dict(captions, orient='index', columns=['caption'])\n",
    "# read classes from xlsx\n",
    "df_classes = pd.read_excel(f\"{data_dir}/data.xlsx\", index_col='image_id')\n",
    "\n",
    "# join dataframes\n",
    "df = pd.merge(df_captions, df_classes, left_index=True, right_index=True)\n",
    "df.columns = ['caption', 'label']\n",
    "data = Dataset.from_pandas(df).train_test_split(test_size=0.15, seed=4999)\n",
    "data\n"
   ]
  },
  {
   "cell_type": "markdown",
   "metadata": {},
   "source": [
    "## Text classification"
   ]
  },
  {
   "cell_type": "code",
   "execution_count": 4,
   "metadata": {},
   "outputs": [],
   "source": [
    "model_id = \"google-bert/bert-base-uncased\""
   ]
  },
  {
   "cell_type": "markdown",
   "metadata": {},
   "source": [
    "### Tokenize data"
   ]
  },
  {
   "cell_type": "code",
   "execution_count": 5,
   "metadata": {},
   "outputs": [
    {
     "data": {
      "application/vnd.jupyter.widget-view+json": {
       "model_id": "d9350c09f8aa43db96720fad25302944",
       "version_major": 2,
       "version_minor": 0
      },
      "text/plain": [
       "Map:   0%|          | 0/492 [00:00<?, ? examples/s]"
      ]
     },
     "metadata": {},
     "output_type": "display_data"
    },
    {
     "data": {
      "application/vnd.jupyter.widget-view+json": {
       "model_id": "3675052d561842598c7070746a692bcd",
       "version_major": 2,
       "version_minor": 0
      },
      "text/plain": [
       "Map:   0%|          | 0/87 [00:00<?, ? examples/s]"
      ]
     },
     "metadata": {},
     "output_type": "display_data"
    }
   ],
   "source": [
    "tokenizer = AutoTokenizer.from_pretrained(model_id)\n",
    "\n",
    "def preprocess_function(examples):\n",
    "  return tokenizer(examples[\"caption\"], truncation=True)\n",
    "\n",
    "tokenized_data = data.map(preprocess_function, batched=True)\n",
    "data_collator = DataCollatorWithPadding(tokenizer=tokenizer)"
   ]
  },
  {
   "cell_type": "markdown",
   "metadata": {},
   "source": [
    "### Train model"
   ]
  },
  {
   "cell_type": "code",
   "execution_count": 6,
   "metadata": {},
   "outputs": [
    {
     "name": "stderr",
     "output_type": "stream",
     "text": [
      "Some weights of BertForSequenceClassification were not initialized from the model checkpoint at google-bert/bert-base-uncased and are newly initialized: ['classifier.bias', 'classifier.weight']\n",
      "You should probably TRAIN this model on a down-stream task to be able to use it for predictions and inference.\n"
     ]
    },
    {
     "data": {
      "application/vnd.jupyter.widget-view+json": {
       "model_id": "d1bab3bb7520432d8dc7732e0ccb143b",
       "version_major": 2,
       "version_minor": 0
      },
      "text/plain": [
       "  0%|          | 0/310 [00:00<?, ?it/s]"
      ]
     },
     "metadata": {},
     "output_type": "display_data"
    },
    {
     "data": {
      "application/vnd.jupyter.widget-view+json": {
       "model_id": "086728b30b284f0ebbe6104a95b73b67",
       "version_major": 2,
       "version_minor": 0
      },
      "text/plain": [
       "  0%|          | 0/6 [00:00<?, ?it/s]"
      ]
     },
     "metadata": {},
     "output_type": "display_data"
    },
    {
     "name": "stdout",
     "output_type": "stream",
     "text": [
      "{'eval_loss': 1.1372963190078735, 'eval_accuracy': 0.6666666666666666, 'eval_runtime': 0.7126, 'eval_samples_per_second': 122.09, 'eval_steps_per_second': 8.42, 'epoch': 1.0}\n"
     ]
    }
   ],
   "source": [
    "\n",
    "accuracy = evaluate.load(\"accuracy\")\n",
    "\n",
    "def compute_metrics(eval_pred):\n",
    "    predictions, labels = eval_pred\n",
    "    predictions = np.argmax(predictions, axis=1)\n",
    "    return accuracy.compute(predictions=predictions, references=labels)\n",
    "\n",
    "id2label = {\n",
    "  0: \"Nature and Landscape/Seascape\",\n",
    "  1: \"Fauna/Flora\",\n",
    "  2: \"Rural\",\n",
    "  3: \"Sport\",\n",
    "  4: \"Cultural\",\n",
    "  5: \"Gastronomy\"\n",
    "}\n",
    "\n",
    "label2id = {\n",
    "   \"Nature and Landscape/Seascape\": 0,\n",
    "   \"Fauna/Flora\": 1,\n",
    "   \"Rural\": 2,\n",
    "   \"Sport\": 3,\n",
    "   \"Cultural\": 4,\n",
    "   \"Gastronomy\": 5\n",
    "}\n",
    "\n",
    "model = AutoModelForSequenceClassification.from_pretrained(\n",
    "    model_id, num_labels=6, id2label=id2label, label2id=label2id\n",
    ")\n",
    "\n",
    "training_args = TrainingArguments(\n",
    "    output_dir=f\"{models_dir}/distilbert\",\n",
    "    learning_rate=2e-5,\n",
    "    per_device_train_batch_size=16,\n",
    "    per_device_eval_batch_size=16,\n",
    "    num_train_epochs=10,\n",
    "    weight_decay=0.01,\n",
    "    eval_strategy=\"epoch\",\n",
    "    save_strategy=\"epoch\",\n",
    "    load_best_model_at_end=True,\n",
    "    push_to_hub=False,\n",
    ")\n",
    "\n",
    "class AccuracyHistory(TrainerCallback):\n",
    "    def __init__(self):\n",
    "        self.eval_acc = []\n",
    "\n",
    "    def on_evaluate(self, args, state, control, metrics=None, **kwargs):\n",
    "        if metrics is not None:\n",
    "            self.eval_acc.append(metrics[\"eval_accuracy\"])\n",
    "\n",
    "accuracy_history = AccuracyHistory()\n",
    "\n",
    "trainer = Trainer(\n",
    "    model=model,\n",
    "    args=training_args,\n",
    "    train_dataset=tokenized_data[\"train\"],\n",
    "    eval_dataset=tokenized_data[\"test\"],\n",
    "    tokenizer=tokenizer,\n",
    "    data_collator=data_collator,\n",
    "    compute_metrics=compute_metrics,\n",
    "    callbacks=[accuracy_history]\n",
    ")\n",
    "\n",
    "trainer.train()\n",
    "trainer.save_model(f\"{models_dir}/best_distil_bert\")\n",
    "\n",
    "# Plot the train and test accuracy evolution\n",
    "plt.figure(figsize=(10, 5))\n",
    "plt.plot(accuracy_history.eval_acc, label='Eval Accuracy')\n",
    "plt.xlabel('Epoch')\n",
    "plt.ylabel('Accuracy')\n",
    "plt.title('Eval Accuracy Evolution')\n",
    "plt.legend()\n",
    "plt.show()\n",
    "\n",
    "# After training, evaluate the model on the test set and compute the confusion matrix\n",
    "predictions, labels, _ = trainer.predict(tokenized_data[\"test\"])\n",
    "predictions = np.argmax(predictions, axis=1)\n",
    "\n",
    "# Compute the confusion matrix\n",
    "cm = confusion_matrix(labels, predictions, labels=list(label2id.values()))\n",
    "disp = ConfusionMatrixDisplay(confusion_matrix=cm, display_labels=list(label2id.keys()))\n",
    "\n",
    "# Plot the confusion matrix\n",
    "disp.plot(cmap=plt.cm.Blues)\n",
    "plt.title('Confusion Matrix')\n",
    "plt.show()"
   ]
  },
  {
   "cell_type": "code",
   "execution_count": null,
   "metadata": {},
   "outputs": [],
   "source": []
  }
 ],
 "metadata": {
  "kernelspec": {
   "display_name": "venv",
   "language": "python",
   "name": "python3"
  },
  "language_info": {
   "codemirror_mode": {
    "name": "ipython",
    "version": 3
   },
   "file_extension": ".py",
   "mimetype": "text/x-python",
   "name": "python",
   "nbconvert_exporter": "python",
   "pygments_lexer": "ipython3",
   "version": "3.12.4"
  }
 },
 "nbformat": 4,
 "nbformat_minor": 2
}
